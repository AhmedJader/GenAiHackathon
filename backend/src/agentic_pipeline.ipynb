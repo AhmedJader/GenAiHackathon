{
 "cells": [
  {
   "cell_type": "code",
   "execution_count": 102,
   "metadata": {},
   "outputs": [],
   "source": [
    "import json\n",
    "path = \"/Users/yusufmoola/Desktop/Code Demo's/GenAiHackathon/backend/src/samplequiz.json\"\n",
    "path2 = \"/Users/yusufmoola/Desktop/Code Demo's/GenAiHackathon/backend/src/sample_answers.json\"\n",
    "\n",
    "with open(path, 'r') as f:\n",
    "    sample_data = json.load(f)\n",
    "\n",
    "with open(path2, 'r') as f:\n",
    "    sample_answers = json.load(f)"
   ]
  },
  {
   "cell_type": "markdown",
   "metadata": {},
   "source": [
    "# Imports"
   ]
  },
  {
   "cell_type": "code",
   "execution_count": null,
   "metadata": {},
   "outputs": [],
   "source": [
    "from langchain_ollama.llms import OllamaLLM\n",
    "from langchain_openai import OpenAI\n",
    "from langchain_community.document_loaders import PyPDFLoader\n",
    "from langchain.text_splitter import RecursiveCharacterTextSplitter\n",
    "from langchain_core.prompts import ChatPromptTemplate\n",
    "from langchain.chains import create_retrieval_chain\n",
    "from langchain.chains.combine_documents import create_stuff_documents_chain\n",
    "from langchain_google_vertexai import VertexAI\n",
    "\n",
    "from vertexai.generative_models import (\n",
    "    GenerativeModel,\n",
    "    HarmCategory,\n",
    "    HarmBlockThreshold,\n",
    "    Part,\n",
    "    SafetySetting,\n",
    ")\n"
   ]
  },
  {
   "cell_type": "code",
   "execution_count": 12,
   "metadata": {},
   "outputs": [],
   "source": [
    "import google.generativeai as genai \n",
    "import os \n",
    "genai.configure(api_key= os.environ['GOOGLE_API_KEY'])"
   ]
  },
  {
   "cell_type": "markdown",
   "metadata": {},
   "source": [
    "# Prompt Strengths"
   ]
  },
  {
   "cell_type": "code",
   "execution_count": 177,
   "metadata": {},
   "outputs": [],
   "source": [
    "llm = OllamaLLM(\n",
    "    model= \"mathstral:latest\",\n",
    "    temperature=0.3\n",
    ")\n",
    "\n",
    "\n",
    "prompt_strength = '''\n",
    "\n",
    "\n",
    "You are a data-driven educational assistant helping a math teacher analyze a student's performance on an advanced functions quiz. \n",
    "You are given two JSON files:\n",
    "\n",
    "## 1. quiz_questions – This includes quiz metadata:\n",
    "\n",
    "question_number: A unique identifier for each question\n",
    "question: The question text\n",
    "answer: The correct answer (symbol-limited or numeric)\n",
    "difficulty: The difficulty level (easy, medium, or hard)\n",
    "topic: The curriculum topic of the question\n",
    "\n",
    "## 2. user_responses – This includes:\n",
    "\n",
    "question_number: Matching ID from the quiz\n",
    "question: Repeated for context\n",
    "user_response: The student’s response\n",
    "\n",
    "Here are the quiz questions json(1):\n",
    "{}\n",
    "\n",
    "Here are the user responses json(2):\n",
    "{}\n",
    "\n",
    "## Instructions\n",
    "- First check which answers were correct by comparing student response with answer from the 2 jsons\n",
    "- Then, identify topics that the student did well in based on their correct answers\n",
    "- only include the questions they got correcr\n",
    "\n",
    "\n",
    "\n",
    "## Output Format\n",
    "- Structure output in neat paragraphs with headings\n",
    "- DO NOT RETURN CODE\n",
    "- DO NOT RETURN JSON\n",
    "- DO NOT WRAP ANSWER IN (''' ''')\n",
    "\n",
    "\n",
    "THIS IS THE STRUCTURE I WANT YOU TO FOLLOW WHEN ANSWERING:\n",
    "\n",
    "\"\n",
    "## Students correct responses from the quiz\n",
    "\n",
    "**Correct Responses:**\n",
    "\n",
    "*   **Question number:**\n",
    "    *   Topic: (topic)\n",
    "    *   Difficulty: (difficulty)\n",
    "\n",
    "\n",
    "\"\n",
    "'''"
   ]
  },
  {
   "cell_type": "code",
   "execution_count": 178,
   "metadata": {},
   "outputs": [
    {
     "name": "stdout",
     "output_type": "stream",
     "text": [
      "1. Students Correct Responses from the Quiz\n",
      "\n",
      "**Correct Responses:**\n",
      "\n",
      "*   **Question number:** 1\n",
      "    *   Topic: Exponential Equations\n",
      "    *   Difficulty: Easy\n",
      "    \n",
      "*   **Question number:** 3\n",
      "    *   Topic: Radian Measure\n",
      "    *   Difficulty: Easy\n",
      "    \n",
      "*   **Question number:** 4\n",
      "    *   Topic: Trigonometric Identity\n",
      "    *   Difficulty: Medium\n",
      "    \n",
      "*   **Question number:** 6\n",
      "    *   Topic: Polynomial Roots\n",
      "    *   Difficulty: Medium\n",
      "    \n",
      "*   **Question number:** 7\n",
      "    *   Topic: Average Rate of Change\n",
      "    *   Difficulty: Hard\n",
      "    \n",
      "*   **Question number:** 8\n",
      "    *   Topic: Function Transformations\n",
      "    *   Difficulty: Medium\n",
      "    \n",
      "*   **Question number:** 10\n",
      "    *   Topic: Function Composition\n",
      "    *   Difficulty: Hard\n",
      "\n",
      "The student answered correctly on questions related to exponential equations, radian measure, trigonometric identities, polynomial roots, average rate of change, function transformations, and function composition.\n"
     ]
    }
   ],
   "source": [
    "prompt_final = prompt_strength.format(sample_data, sample_answers)\n",
    "res_strength = llm.invoke(prompt_final)\n",
    "print(res_strength)"
   ]
  },
  {
   "cell_type": "markdown",
   "metadata": {},
   "source": [
    "# Prompt Weakness"
   ]
  },
  {
   "cell_type": "code",
   "execution_count": 170,
   "metadata": {},
   "outputs": [],
   "source": [
    "llm = OllamaLLM(\n",
    "    model= \"mathstral:latest\",\n",
    "    temperature=0.3\n",
    ")\n",
    "\n",
    "\n",
    "prompt_weakness = '''\n",
    "\n",
    "THIS IS THE STRUCTURE I WANT YOU TO FOLLOW WHEN ANSWERING:\n",
    "\n",
    "\"\n",
    "Here's an analysis of the student's quiz performance:\n",
    "\n",
    "**Incorrect Responses:**\n",
    "\n",
    "*   **Question number:**\n",
    "    *   Topic: (topic)\n",
    "    *   Difficulty: (difficulty)\n",
    "    *   Correct Answer: **answer\n",
    "    *   Student Answer: **response\n",
    "\n",
    "\n",
    "**Aggregate Insights:**\n",
    "\n",
    "*   **Topics of Struggle:** \n",
    "*   **Difficulty Level:**  \n",
    "*   **Patterns:**  \n",
    "\n",
    "\"\n",
    "\n",
    "You are a data-driven educational assistant helping a math teacher analyze a student's performance on an advanced functions quiz. \n",
    "You are given two JSON files:\n",
    "\n",
    "## 1. quiz_questions – This includes quiz metadata:\n",
    "\n",
    "question_number: A unique identifier for each question\n",
    "question: The question text\n",
    "answer: The correct answer (symbol-limited or numeric)\n",
    "difficulty: The difficulty level (easy, medium, or hard)\n",
    "topic: The curriculum topic of the question\n",
    "\n",
    "## 2. user_responses – This includes:\n",
    "\n",
    "question_number: Matching ID from the quiz\n",
    "question: Repeated for context\n",
    "user_response: The student’s response\n",
    "\n",
    "Here are the quiz questions json(1):\n",
    "{}\n",
    "\n",
    "Here are the user responses json(2):\n",
    "{}\n",
    "\n",
    "## Instructions\n",
    "- Match user responses with correct answers using question_number.\n",
    "- Identify incorrect responses.\n",
    "- For each incorrect response, record:\n",
    "- The topic and difficulty of the question\n",
    "- The correct answer and the student’s incorrect answer\n",
    "\n",
    "\n",
    "### Aggregate insights:\n",
    "- Which topics the student struggled with the most\n",
    "- Which difficulty levels are most problematic\n",
    "- Any pattern (e.g., wrong on most hard questions or all questions in a topic like logarithmic equations)\n",
    "\n",
    "## Output Format\n",
    "- DO NOT RETURN CODE\n",
    "- DO NOT RETURN JSON\n",
    "- DO NOT WRAP ANSWER IN (''' ''')\n",
    "'''"
   ]
  },
  {
   "cell_type": "markdown",
   "metadata": {},
   "source": [
    "# LLM Config"
   ]
  },
  {
   "cell_type": "code",
   "execution_count": 137,
   "metadata": {},
   "outputs": [],
   "source": [
    "safety_settings = {\n",
    "                HarmCategory.HARM_CATEGORY_UNSPECIFIED: HarmBlockThreshold.BLOCK_ONLY_HIGH,\n",
    "                HarmCategory.HARM_CATEGORY_DANGEROUS_CONTENT: HarmBlockThreshold.BLOCK_ONLY_HIGH,\n",
    "                HarmCategory.HARM_CATEGORY_HATE_SPEECH: HarmBlockThreshold.BLOCK_ONLY_HIGH,\n",
    "                HarmCategory.HARM_CATEGORY_HARASSMENT: HarmBlockThreshold.BLOCK_ONLY_HIGH,\n",
    "                HarmCategory.HARM_CATEGORY_SEXUALLY_EXPLICIT: HarmBlockThreshold.BLOCK_ONLY_HIGH,\n",
    "}\n",
    "class LLM:\n",
    "    def __init__(self):\n",
    "        self.llm = VertexAI(\n",
    "            model_name=\"gemini-1.5-pro-001\",\n",
    "            temperature=.4,\n",
    "            top_p=0.8,\n",
    "            top_k=40,\n",
    "            max_output_tokens=4096,\n",
    "            verbose=True,\n",
    "            safety_settings=safety_settings  # Add the safety configuration here\n",
    "            )"
   ]
  },
  {
   "cell_type": "code",
   "execution_count": 171,
   "metadata": {},
   "outputs": [
    {
     "name": "stdout",
     "output_type": "stream",
     "text": [
      "1. **Incorrect Responses:**\n",
      "\n",
      "*   **Question number: 2**\n",
      "    *   Topic: logarithmic properties\n",
      "    *   Difficulty: medium\n",
      "    *   Correct Answer: 2\n",
      "    *   Student Answer: 3\n",
      "\n",
      "*   **Question number: 5**\n",
      "    *   Topic: rational functions\n",
      "    *   Difficulty: hard\n",
      "    *   Correct Answer: x = ±3\n",
      "    *   Student Answer: x = ±2\n",
      "\n",
      "*   **Question number: 9**\n",
      "    *   Topic: logarithmic equations\n",
      "    *   Difficulty: hard\n",
      "    *   Correct Answer: 13.8\n",
      "    *   Student Answer: 12\n",
      "\n",
      "2. **Aggregate Insights:**\n",
      "\n",
      "*   **Topics of Struggle:** The student struggled with questions related to logarithmic properties, rational functions, and logarithmic equations.\n",
      "*   **Difficulty Level:** The student found hard difficulty level questions more challenging.\n",
      "*   **Patterns:** The student made errors in the topics of logarithmic properties, rational functions, and logarithmic equations, suggesting a need for more practice or review in these areas.\n"
     ]
    }
   ],
   "source": [
    "prompt_final = prompt_weakness.format(sample_data, sample_answers)\n",
    "res = llm.invoke(prompt_final)\n",
    "print(res)"
   ]
  },
  {
   "cell_type": "markdown",
   "metadata": {},
   "source": [
    "# RAG "
   ]
  },
  {
   "cell_type": "code",
   "execution_count": 184,
   "metadata": {},
   "outputs": [
    {
     "name": "stderr",
     "output_type": "stream",
     "text": [
      "Ignoring wrong pointing object 41 0 (offset 0)\n",
      "Ignoring wrong pointing object 46 0 (offset 0)\n"
     ]
    }
   ],
   "source": [
    "from langchain_ollama.llms import OllamaLLM\n",
    "from langchain_community.document_loaders import PyPDFLoader\n",
    "\n",
    "loader = PyPDFLoader(\"/Users/yusufmoola/Desktop/Code Demo's/GenAiHackathon/backend/Advanced-Functions.pdf\")\n",
    "docs = loader.load()\n",
    "\n",
    "from langchain_ollama import OllamaEmbeddings"
   ]
  },
  {
   "cell_type": "code",
   "execution_count": 185,
   "metadata": {},
   "outputs": [
    {
     "data": {
      "text/plain": [
       "[Document(metadata={'producer': 'macOS Version 15.3.2 (Build 24D81) Quartz PDFContext', 'creator': 'Preview', 'creationdate': \"D:20250322022618Z00'00'\", 'title': 'math1112currb-2', 'author': 'Yusuf Moola', 'moddate': \"D:20250322022618Z00'00'\", 'source': \"/Users/yusufmoola/Desktop/Code Demo's/GenAiHackathon/backend/Advanced-Functions.pdf\", 'total_pages': 14, 'page': 0, 'page_label': '1'}, page_content='Advanced Functions, \\nGrade 12\\nUniversity Preparation MHF4U\\nThis course extends students’ experience with functions. Students will investigate the\\nproperties of polynomial, rational, logarithmic, and trigonometric functions; develop\\ntechniques for combining functions; broaden their understanding of rates of change; and\\ndevelop facility in applying these concepts and skills. Students will also refine their use\\nof the mathematical processes necessary for success in senior mathematics. This course \\nis intended both for students taking the Calculus and Vectors course as a prerequisite \\nfor a university program and for those wishing to consolidate their understanding of\\nmathematics before proceeding to any one of a variety of university programs. \\nPrerequisite: Functions, Grade 11, University Preparation, or Mathematics for College\\nTechnology, Grade 12, College Preparation\\n85'),\n",
       " Document(metadata={'producer': 'macOS Version 15.3.2 (Build 24D81) Quartz PDFContext', 'creator': 'Preview', 'creationdate': \"D:20250322022618Z00'00'\", 'title': 'math1112currb-2', 'author': 'Yusuf Moola', 'moddate': \"D:20250322022618Z00'00'\", 'source': \"/Users/yusufmoola/Desktop/Code Demo's/GenAiHackathon/backend/Advanced-Functions.pdf\", 'total_pages': 14, 'page': 1, 'page_label': '2'}, page_content='86\\nCommunicating\\nRepresenting\\nConnecting\\nSelecting Tools and\\nComputational\\nStrategies\\nReflecting\\nReasoning and\\nProving\\nProblem Solving\\n• develop, select, apply, compare, and adapt a variety of problem-solving \\nstrategies as they pose and solve problems and conduct investigations, to \\nhelp deepen their mathematical understanding;\\n• develop and apply reasoning skills (e.g., use of inductive reasoning, deductive\\nreasoning, and counter-examples; construction of proofs) to make mathematical\\nconjectures, assess conjectures, and justify conclusions, and plan and construct\\norganized mathematical arguments;\\n• demonstrate that they are reflecting on and monitoring their thinking to \\nhelp clarify their understanding as they complete an investigation or solve a\\nproblem (e.g., by assessing the effectiveness of strategies and processes used, \\nby proposing alternative approaches, by judging the reasonableness of results, \\nby verifying solutions);\\n• select and use a variety of concrete, visual, and electronic learning tools and\\nappropriate computational strategies to investigate mathematical ideas and \\nto solve problems;\\n• make connections among mathematical concepts and procedures, and relate\\nmathematical ideas to situations or phenomena drawn from other contexts \\n(e.g., other curriculum areas, daily life, current events, art and culture, sports);\\n• create a variety of representations of mathematical ideas (e.g., numeric, \\ngeometric, algebraic, graphical, pictorial representations; onscreen dynamic \\nrepresentations), connect and compare them, and select and apply the \\nappropriate representations to solve problems;\\n• communicate mathematical thinking orally, visually, and in writing, using precise\\nmathematical vocabulary and a variety of appropriate representations, and\\nobserving mathematical conventions.\\nMATHEMATICAL PROCESS EXPECTATIONS\\nThe mathematical processes are to be integrated into student learning in all areas of this course.\\nThroughout this course, students will:'),\n",
       " Document(metadata={'producer': 'macOS Version 15.3.2 (Build 24D81) Quartz PDFContext', 'creator': 'Preview', 'creationdate': \"D:20250322022618Z00'00'\", 'title': 'math1112currb-2', 'author': 'Yusuf Moola', 'moddate': \"D:20250322022618Z00'00'\", 'source': \"/Users/yusufmoola/Desktop/Code Demo's/GenAiHackathon/backend/Advanced-Functions.pdf\", 'total_pages': 14, 'page': 2, 'page_label': '3'}, page_content='A.  EXPONENTIAL AND LOGARITHMIC \\nFUNCTIONS\\nOVERALL EXPECTATIONS \\nBy the end of this course, students will:\\n1. demonstrate an understanding of the relationship between exponential expressions and logarithmic\\nexpressions, evaluate logarithms, and apply the laws of logarithms to simplify numeric expressions;\\n2. identify and describe some key features of the graphs of logarithmic functions, make connections\\namong the numeric, graphical, and algebraic representations of logarithmic functions, and solve \\nrelated problems graphically;\\n3. solve exponential and simple logarithmic equations in one variable algebraically, including those \\nin problems arising from real-world applications.\\nSPECIFIC EXPECTATIONS \\ncan also be expressed as 5 = 125), and solve\\nsimple exponential equations by rewriting\\nthem in logarithmic form (e.g., solving 3 = 10\\nby rewriting the equation as log 10 = x)3\\nx\\n3\\nAdvanced Functions\\nMHF4U\\nand h(x) = log x using graphing technology.8\\nBy the end of this course, students will:\\n1.1 recognize the logarithm of a number to a\\ngiven base as the exponent to which the base\\nmust be raised to get the number, recognize\\nthe operation of ﬁnding the logarithm to be\\nthe inverse operation (i.e., the undoing or\\nreversing) of exponentiation, and evaluate\\nsimple logarithmic expressions\\nSample problem: Why is it not possible to\\ndetermine log ( –3) or log 0? Explain your\\nreasoning.\\n1.2 determine, with technology, the approximate\\nlogarithm of a number to any base, including\\nbase 10 (e.g., by reasoning that log 29 is\\nbetween 3 and 4 and using systematic trial to\\ndetermine that  log 29 is approximately 3.07)\\n1.3 make connections between related logarithmic\\nand exponential equations (e.g., log 125 = 3\\n1.4 make connections between the laws of expo-\\nnents and the laws of logarithms [e.g., use \\nthe statement 10 = 10 10 to deduce that\\nlog x + log y = log ( xy)], verify the laws of\\nlogarithms with or without technology (e.g.,\\nuse patterning to verify the quotient law for\\nlogarithms by evaluating expressions such as\\nlog 1000 – log 100 and then rewriting the\\nanswer as a logarithmic term to the same\\nbase), and use the laws of logarithms to \\nsimplify and evaluate numerical expressions\\nBy the end of this course, students will:\\n2.1 determine, through investigation with tech-\\nnology (e.g., graphing calculator, spreadsheet)\\nand without technology, key features (i.e.,\\nvertical and horizontal asymptotes, domain\\nand range, intercepts, increasing/decreasing\\nbehaviour) of the graphs of logarithmic func-\\ntions of the form f(x) = log x, and make con-\\nnections between the algebraic and graphical\\nrepresentations of these logarithmic functions\\nSample problem: Compare the key features\\nof the graphs of f(x) = log x, g(x) = log x, \\n2.2 recognize the relationship between an expo-\\nnential function and the corresponding loga-\\nrithmic function to be that of a function and\\nits inverse, deduce that the graph of a loga-\\nrithmic function is the reflection of the graph\\nof the corresponding exponential function in\\nthe line y = x, and verify the deduction using\\ntechnology \\n24\\nb\\n2. Connecting Graphs and Equations \\nof Logarithmic Functions\\n1010\\na+b b a\\n101010\\n5\\n3\\n3\\n210\\n1. Evaluating Logarithmic Expressions\\nEXPONENTIAL AND LOGARITHMIC FUNCTIONS\\n87'),\n",
       " Document(metadata={'producer': 'macOS Version 15.3.2 (Build 24D81) Quartz PDFContext', 'creator': 'Preview', 'creationdate': \"D:20250322022618Z00'00'\", 'title': 'math1112currb-2', 'author': 'Yusuf Moola', 'moddate': \"D:20250322022618Z00'00'\", 'source': \"/Users/yusufmoola/Desktop/Code Demo's/GenAiHackathon/backend/Advanced-Functions.pdf\", 'total_pages': 14, 'page': 3, 'page_label': '4'}, page_content='88\\nSample problem: Give examples to show that\\nthe inverse of a function is not necessarily a\\nfunction. Use the key features of the graphs of\\nlogarithmic and exponential functions to give\\nreasons why the inverse of an exponential\\nfunction is a function.\\n2.3 determine, through investigation using technol-\\nogy, the roles of the parameters d and c in\\nfunctions of the form y = log ( x – d) + c and\\nthe roles of the parameters a and k in func-\\ntions of the form y = alog ( kx), and describe\\nthese roles in terms of transformations on the   \\nhorizontal translations; reflections in the axes;\\nvertical and horizontal stretches and \\ncompressions to and from the x- and y-axes)\\nSample problem: Investigate the graphs of\\nf(x) = log ( x) + c, f(x) = log ( x – d),\\nvarious values of c, d, a, and k, using technol-\\nogy, describe the effects of changing these\\nparameters in terms of transformations, and\\nmake connections to the transformations of\\nother functions such as polynomial functions,\\nexponential functions, and trigonometric\\nfunctions.\\n2.4 pose problems based on real-world applica-\\ntions of exponential and logarithmic functions\\n(e.g., exponential growth and decay, the\\nRichter scale, the pH scale, the decibel scale),\\nand solve these and other such problems by\\nusing a given graph or a graph generated\\nwith technology from a table of values or\\nfrom its equation\\nSample problem: The pH or acidity of a solu-\\ntion is given by the equation pH = –logC,\\nwhere C is the concentration of [H ] ions in\\nmultiples of M = 1 mol/L. Use graphing \\nsoftware to graph this function. What is the\\nchange in pH if the solution is diluted from a\\nconcentration of 0.1M to a concentration of\\n0.01M? From 0.001M to 0.0001M? Describe\\nthe change in pH when the concentration of \\nany acidic solution is reduced to of its\\noriginal concentration. Rearrange the given\\nequation to determine concentration as a\\nfunction of pH.\\nBy the end of this course, students will:\\n3.1 recognize equivalent algebraic expressions\\ninvolving logarithms and exponents, and \\nsimplify expressions of these types\\nSample problem: Sketch the graphs of \\nf(x) = log (100 x) and g(x) = 2 + log x, \\ncompare the graphs, and explain your \\nfindings algebraically.\\n3.2 solve exponential equations in one variable \\nby determining a common base (e.g., solve \\n4 = 8 by expressing each side as a power\\nof 2) and by using logarithms (e.g., solve \\n4 = 8 by taking the logarithm base 2 \\nof both sides), recognizing that logarithms \\nbase 10 are commonly used (e.g., solving \\n3 = 7 by taking the logarithm base 10 of \\nboth sides) \\nSample problem: Solve 300(1.05) = 600 and \\n2 – 2 = 12 either by finding a common\\nbase or by taking logarithms, and explain\\nyour choice of method in each case.\\n3.3 solve simple logarithmic equations in one\\nvariable algebraically [e.g., log (5 x + 6) = 2, \\nlog ( x + 1) = 1]\\n3.4 solve problems involving exponential and\\nlogarithmic equations algebraically, includ-\\ning problems arising from real-world \\napplications\\nSample problem: The pH or acidity of a solu-\\ntion is given by the equation pH = –logC,\\nwhere C is the concentration of [H ] ions in\\nmultiples of M = 1 mol/L. You are given a\\nsolution of hydrochloric acid with a pH of 1.7\\nand asked to increase the pH of the solution\\nby 1.4. Determine how much you must dilute\\nthe solution. Does your answer differ if you\\nstart with a pH of 2.2?\\n+\\n1\\n10\\n+\\nx+ 2\\nx+ 3x\\nx\\n10\\n3\\nx\\nn\\nx\\nx+ 3\\n1010\\n3. Solving Exponential and\\nLogarithmic Equations\\n1010\\n10\\n10\\nTHE ONTARIO CURRICULUM, GRADES 11 AND 12 | Mathematics Grade 12, University Preparation\\ngraph of f(x) = log x (i.e., vertical and10\\nf(x) = alog x, and f(x) = log ( kx)f o r1010'),\n",
       " Document(metadata={'producer': 'macOS Version 15.3.2 (Build 24D81) Quartz PDFContext', 'creator': 'Preview', 'creationdate': \"D:20250322022618Z00'00'\", 'title': 'math1112currb-2', 'author': 'Yusuf Moola', 'moddate': \"D:20250322022618Z00'00'\", 'source': \"/Users/yusufmoola/Desktop/Code Demo's/GenAiHackathon/backend/Advanced-Functions.pdf\", 'total_pages': 14, 'page': 4, 'page_label': '5'}, page_content='Advanced Functions\\nMHF4U\\nB.  TRIGONOMETRIC FUNCTIONS  \\nOVERALL EXPECTATIONS \\nBy the end of this course, students will:\\n1. demonstrate an understanding of the meaning and application of radian measure;\\n2. make connections between trigonometric ratios and the graphical and algebraic representations of \\nthe corresponding trigonometric functions and between trigonometric functions and their reciprocals,\\nand use these connections to solve problems;\\n3. solve problems involving trigonometric equations and prove trigonometric identities.\\nSPECIFIC EXPECTATIONS \\n1\\nsin x\\n1\\nf(x)\\nTRIGONOMETRIC FUNCTIONS\\n89\\nBy the end of this course, students will:\\n1.1 recognize the radian as an alternative unit to\\nthe degree for angle measurement, define the\\nradian measure of an angle as the length of\\nthe arc that subtends this angle at the centre\\nof a unit circle, and develop and apply the\\nrelationship between radian and degree \\nmeasure\\n1.2 represent radian measure in terms of π (e.g.,  \\nradians, 2π radians) and as a rational number\\n(e.g., 1.05 radians, 6.28 radians)\\n1.3 determine, with technology, the primary\\ntrigonometric ratios (i.e., sine, cosine, tangent)\\nand the reciprocal trigonometric ratios (i.e.,\\ncosecant, secant, cotangent) of angles\\nexpressed in radian measure \\n1.4 determine, without technology, the exact \\nvalues of the primary trigonometric ratios \\nand the reciprocal trigonometric ratios for  \\nthe special angles 0, , , , , and their \\nmultiples less than or equal to 2 π\\nBy the end of this course, students will:\\n2.1 sketch the graphs of f(x) = sin x and f(x) = cos x\\nfor angle measures expressed in radians, and\\ndetermine and describe some key properties\\n(e.g., period of 2π, amplitude of 1) in terms of\\nradians\\n2.2 make connections between the tangent ratio\\nand the tangent function by using technology\\nto graph the relationship between angles in\\nradians and their tangent ratios and defining\\nthis relationship as the function f(x) = tan x,\\nand describe key properties of the tangent\\nfunction\\n2.3 graph, with technology and using the primary\\ntrigonometric functions, the reciprocal\\ntrigonometric functions (i.e., cosecant, secant,\\ncotangent) for angle measures expressed in\\nradians, determine and describe key proper-\\nties of the reciprocal functions (e.g., state the\\ndomain, range, and period, and identify and\\nexplain the occurrence of asymptotes), and\\nrecognize notations used to represent the\\nreciprocal functions [e.g., the reciprocal of \\nf(x) = sin x can be represented using csc x,\\n, or        , but not using f (x)o r  s i n x, \\nwhich represent the inverse function]\\n–1 –1\\n2. Connecting Graphs and Equations \\nof Trigonometric Functions\\nπ\\n6\\nπ\\n4\\nπ\\n3\\nπ\\n2\\nπ\\n3\\n1. Understanding and Applying \\nRadian Measure'),\n",
       " Document(metadata={'producer': 'macOS Version 15.3.2 (Build 24D81) Quartz PDFContext', 'creator': 'Preview', 'creationdate': \"D:20250322022618Z00'00'\", 'title': 'math1112currb-2', 'author': 'Yusuf Moola', 'moddate': \"D:20250322022618Z00'00'\", 'source': \"/Users/yusufmoola/Desktop/Code Demo's/GenAiHackathon/backend/Advanced-Functions.pdf\", 'total_pages': 14, 'page': 5, 'page_label': '6'}, page_content='90\\n2.4 determine the amplitude, period, and phase \\nshift of sinusoidal functions whose equations\\nare given in the form f(x) = a sin (k(x – d)) + c\\nor f(x) = acos(k(x – d)) + c, with angles\\nexpressed in radians\\n2.5 sketch graphs of y = a sin (k(x – d)) + c and \\ny = acos(k(x – d)) + c by applying trans-\\nformations to the graphs of f(x) = sin x and\\nf(x) = cos x with angles expressed in radians,\\nand state the period, amplitude, and phase\\nshift of the transformed functions\\nSample problem: Transform the graph of \\nf(x) = cos x to sketch g(x) = 3c o s( 2x) – 1, \\nand state the period, amplitude, and phase\\nshift of each function.\\n2.6 represent a sinusoidal function with an \\nequation, given its graph or its properties,\\nwith angles expressed in radians \\nSample problem: A sinusoidal function has\\nan amplitude of 2 units, a period of π, and a\\nmaximum at (0, 3). Represent the function\\nwith an equation in two different ways.\\n2.7 pose problems based on applications involv-\\ning a trigonometric function with domain\\nexpressed in radians (e.g., seasonal changes in\\ntemperature, heights of tides, hours of day-\\nlight, displacements for oscillating springs),\\nand solve these and other such problems by\\nusing a given graph or a graph generated\\nwith or without technology from a table of\\nvalues or from its equation \\nSample problem: The population size, P, \\nof owls (predators) in a certain region can \\nbe modelled by the function \\nP(t) = 1000 + 100 sin () , where t represents\\nthe time in months. The population size, p, \\nof mice (prey) in the same region is given by\\np(t) = 20 000 + 4000 cos () . Sketch the \\ngraphs of these functions, and pose and \\nsolve problems involving the relationships\\nbetween the two populations over time.   \\nBy the end of this course, students will:\\n3.1 recognize equivalent trigonometric expressions\\n[e.g., by using the angles in a right triangle \\nto recognize that sin x and cos ( – x) are \\nequivalent; by using transformations to \\nrecognize that cos (x + ) and –sin x are \\nequivalent], and verify equivalence using\\ngraphing technology\\n3.2 explore the algebraic development of the \\ncompound angle formulas (e.g., verify the \\nformulas in numerical examples, using tech-\\nnology; follow a demonstration of the alge-\\nbraic development [student reproduction of\\nthe development of the general case is not\\nrequired]), and use the formulas to determine\\nexact values of trigonometric ratios [e.g., \\ndetermining the exact value of sin () by \\nfirst rewriting it in terms of special angles \\nas sin ( – )] \\n3.3 recognize that trigonometric identities are\\nequations that are true for every value in the\\ndomain (i.e., a counter-example can be used \\nto show that an equation is not an identity),\\nprove trigonometric identities through the\\napplication of reasoning skills, using a variety \\nof relationships (e.g., tan x = ; \\nsin x + cos x = 1; the reciprocal identities;\\nthe compound angle formulas), and verify\\nidentities using technology\\nSample problem: Use the compound angle\\nformulas to prove the double angle formulas.\\n3.4 solve linear and quadratic trigonometric equa-\\ntions, with and without graphing technology,\\nfor the domain of real values from 0 to 2 π,\\nand solve related problems \\nSample problem: Solve the following trigono-\\nmetric equations for 0 ≤ x ≤ 2π, and verify by\\ngraphing with technology: 2 sin x + 1 = 0;\\n2s i n x + sin x – 1 = 0; sin x = cos 2x; \\ncos 2x = .1\\n2\\n2\\n22\\nsin x\\ncos x\\nπ\\n4\\nπ\\n6\\nπ\\n12\\nπ\\n2\\nπ\\n2\\n3. Solving Trigonometric Equations\\nπt\\n12\\nπt\\n12\\nTHE ONTARIO CURRICULUM, GRADES 11 AND 12 | Mathematics Grade 12, University Preparation'),\n",
       " Document(metadata={'producer': 'macOS Version 15.3.2 (Build 24D81) Quartz PDFContext', 'creator': 'Preview', 'creationdate': \"D:20250322022618Z00'00'\", 'title': 'math1112currb-2', 'author': 'Yusuf Moola', 'moddate': \"D:20250322022618Z00'00'\", 'source': \"/Users/yusufmoola/Desktop/Code Demo's/GenAiHackathon/backend/Advanced-Functions.pdf\", 'total_pages': 14, 'page': 6, 'page_label': '7'}, page_content='C.  POL YNOMIAL AND RA TIONAL \\nFUNCTIONS\\nOVERALL EXPECTATIONS \\nBy the end of this course, students will:\\n1. identify and describe some key features of polynomial functions, and make connections between the\\nnumeric, graphical, and algebraic representations of polynomial functions;\\n2. identify and describe some key features of the graphs of rational functions, and represent rational \\nfunctions graphically;\\n3. solve problems involving polynomial and simple rational equations graphically and algebraically;\\n4. demonstrate an understanding of solving polynomial and simple rational inequalities.\\nSPECIFIC EXPECTATIONS \\nAdvanced Functions\\nMHF4U\\nPOL YNOMIAL AND RATIONAL FUNCTIONS\\n91\\nBy the end of this course, students will:\\n1.1 recognize a polynomial expression (i.e., a\\nseries of terms where each term is the product\\nof a constant and a power of x with a non-\\nnegative integral exponent, such as \\nx – 5x + 2x – 1); recognize the equation of \\na polynomial function, give reasons why it \\nis a function, and identify linear and quad-\\nratic functions as examples of polynomial \\nfunctions\\n1.2 compare, through investigation using graph-\\ning technology, the numeric, graphical, and\\nalgebraic representations of polynomial (i.e.,\\nlinear, quadratic, cubic, quartic) functions\\n(e.g., compare finite differences in tables of\\nvalues; investigate the effect of the degree of a\\npolynomial function on the shape of its graph\\nand the maximum number of x-intercepts;\\ninvestigate the effect of varying the sign of the\\nleading coefficient on the end behaviour of\\nthe function for very large positive or nega-\\ntive x-values)\\nSample problem: Investigate the maximum\\nnumber of x-intercepts for linear, quadratic,\\ncubic, and quartic functions using graphing\\ntechnology.\\n1.3 describe key features of the graphs of poly-\\nnomial functions (e.g., the domain and range,\\nthe shape of the graphs, the end behaviour of\\nthe functions for very large positive or nega-\\ntive x-values)\\nSample problem: Describe and compare the\\nkey features of the graphs of the functions\\nf(x) = x, f(x) = x , f(x) = x , f(x) = x + x ,\\nand f(x) = x + x.\\n1.4 distinguish polynomial functions from \\nsinusoidal and exponential functions [e.g., \\nf(x) = sin x, g(x) = 2] ,  a n d  c o m p a r e  a n d  \\ncontrast the graphs of various polynomial\\nfunctions with the graphs of other types of\\nfunctions\\n1.5 make connections, through investigation\\nusing graphing technology (e.g., dynamic\\ngeometry software), between a polynomial\\nfunction given in factored form [e.g., \\nf(x) = 2(x – 3)(x + 2)(x – 1)] and the \\nx-intercepts of its graph, and sketch the \\ngraph of a polynomial function given in \\nfactored form using its key features (e.g., \\nby determining intercepts and end beha-\\nviour; by locating positive and negative\\nregions using test values between and on\\neither side of the x-intercepts) \\nSample problem: Investigate, using graphing\\ntechnology, the x-intercepts and the shapes \\nof the graphs of polynomial functions with\\nx\\n3\\n233 2\\n3 2\\n1. Connecting Graphs and Equations \\nof Polynomial Functions'),\n",
       " Document(metadata={'producer': 'macOS Version 15.3.2 (Build 24D81) Quartz PDFContext', 'creator': 'Preview', 'creationdate': \"D:20250322022618Z00'00'\", 'title': 'math1112currb-2', 'author': 'Yusuf Moola', 'moddate': \"D:20250322022618Z00'00'\", 'source': \"/Users/yusufmoola/Desktop/Code Demo's/GenAiHackathon/backend/Advanced-Functions.pdf\", 'total_pages': 14, 'page': 7, 'page_label': '8'}, page_content='1\\nx – 42\\n1\\nx + n2\\n1\\nx + n\\nTHE ONTARIO CURRICULUM, GRADES 11 AND 12 | Mathematics\\n92\\none or more repeated factors, for example,\\nf(x) = (x – 2)(x – 3), f(x) = (x – 2)(x – 2)(x – 3),\\nf(x) = (x – 2)(x – 2)(x – 2)(x – 3), and \\nf(x) = (x + 2)(x + 2)(x – 2)(x – 2)(x – 3), \\nby considering whether the factor is \\nrepeated an even or an odd number of \\ntimes. Use your conclusions to sketch \\nf(x) = (x + 1)(x + 1)(x – 3)(x – 3), and verify\\nusing technology.\\n1.6 determine, through investigation using tech-\\nnology, the roles of the parameters a, k, d, and\\nc in functions of the form y = af (k(x – d)) + c,\\nand describe these roles in terms of transforma-\\ntions on the graphs of f(x) = x and f(x) = x\\n(i.e., vertical and horizontal translations;\\nreflections in the axes; vertical and horizontal\\nstretches and compressions to and from the \\nx- and y-axes)\\nSample problem: Investigate, using technol-\\nogy, the graph of f(x) = 2(x – d) + c for \\nvarious values of d and c, and describe \\nthe effects of changing d and c in terms of\\ntransformations.\\n1.7 determine an equation of a polynomial func-\\ntion that satisfies a given set of conditions (e.g.,\\ndegree of the polynomial, intercepts, points\\non the function), using methods appropriate\\nto the situation (e.g., using the x-intercepts of\\nthe function; using a trial-and-error process\\nwith a graphing calculator or graphing soft-\\nware; using finite differences), and recognize\\nthat there may be more than one polynomial\\nfunction that can satisfy a given set of condi-\\ntions (e.g., an infinite number of polynomial\\nfunctions satisfy the condition that they have\\nthree given x-intercepts)\\nSample problem: Determine an equation for \\na fifth-degree polynomial function that inter-\\nsects the x-axis at only 5, 1, and –5, and\\nsketch the graph of the function.\\n1.8 determine the equation of the family of poly-\\nnomial functions with a given set of zeros \\nand of the member of the family that passes\\nthrough another given point [e.g., a family \\nof polynomial functions of degree 3 with\\nzeros 5, –3, and –2 is defined by the equation\\nf(x) = k(x – 5)(x + 3)(x + 2), where k is a real\\nnumber, k ≠ 0; the member of the family \\nthat passes through (–1, 24) is \\nf(x) = –2(x – 5)(x + 3)(x + 2)]\\nSample problem: Investigate, using graphing\\ntechnology, and determine a polynomial\\nfunction that can be used to model the func-\\ntion f(x) = sin x over the interval 0 ≤ x ≤ 2π.\\n1.9 determine, through investigation, and compare\\nthe properties of even and odd polynomial\\nfunctions [e.g., symmetry about the y-axis \\nor the origin; the power of each term; the\\nnumber of x-intercepts; f(x) = f(– x)o r  \\nf(– x) = – f(x)], and determine whether a given\\npolynomial function is even, odd, or neither\\nSample problem: Investigate numerically,\\ngraphically, and algebraically, with and with-\\nout technology, the conditions under which\\nan even function has an even number of \\nx-intercepts.\\nBy the end of this course, students will:\\n2.1 determine, through investigation with and\\nwithout technology, key features (i.e., vertical\\nand horizontal asymptotes, domain and\\nrange, intercepts, positive/ negative intervals,\\nincreasing/ decreasing intervals) of the graphs\\nof rational functions that are the reciprocals of\\nlinear and quadratic functions, and make con-\\nnections between the algebraic and graphical\\nrepresentations of these rational functions [e.g.,\\nmake connections between f(x) =\\nand its graph by using graphing technology\\nand by reasoning that there are vertical\\nasymptotes at x = 2 and x = –2 and a hori-\\nzontal asymptote at y = 0 and that the func-\\ntion maintains the same sign as f(x) = x – 4] \\nSample problem: Investigate, with technology,\\nthe key features of the graphs of families of\\nrational functions of the form  \\nf(x) = and f(x) = ,\\nwhere n is an integer, and make connections\\nbetween the equations and key features of\\nthe graphs.\\n2.2 determine, through investigation with and\\nwithout technology, key features (i.e., vertical\\nand horizontal asymptotes, domain and\\nrange, intercepts, positive/ negative intervals,\\nincreasing/ decreasing intervals) of the graphs\\nof rational functions that have linear expres-\\nsions in the numerator and denominator\\n[e.g., f(x) = , h(x) = ], and \\nmake connections between the algebraic and\\ngraphical representations of these rational\\nfunctions\\n2x\\nx – 3\\nx – 2\\n3x + 4\\n2\\n2. Connecting Graphs and Equations \\nof Rational Functions\\n3\\n34\\nGrade 12, University Preparation'),\n",
       " Document(metadata={'producer': 'macOS Version 15.3.2 (Build 24D81) Quartz PDFContext', 'creator': 'Preview', 'creationdate': \"D:20250322022618Z00'00'\", 'title': 'math1112currb-2', 'author': 'Yusuf Moola', 'moddate': \"D:20250322022618Z00'00'\", 'source': \"/Users/yusufmoola/Desktop/Code Demo's/GenAiHackathon/backend/Advanced-Functions.pdf\", 'total_pages': 14, 'page': 8, 'page_label': '9'}, page_content='POL YNOMIAL AND RATIONAL FUNCTIONS Advanced Functions\\nMHF4U\\n93\\nSample problem: Investigate, using graphing\\ntechnology, key features of the graphs of the\\nfamily of rational functions of the form  \\nf(x) = for n = 1, 2, 4, and 8, and make \\nconnections between the equations and the\\nasymptotes.\\n2.3 sketch the graph of a simple rational function\\nusing its key features, given the algebraic rep-\\nresentation of the function\\nBy the end of this course, students will:\\n3.1 make connections, through investigation using\\ntechnology (e.g., computer algebra systems),\\nbetween the polynomial function f(x), the\\ndivisor x – a, the remainder from the division \\n, and f(a)t o  v e r i f y  t h e  r e m a i n d e r  t h e o r e m\\nand the factor theorem \\nSample problem: Divide \\nf(x) = x + 4x – x – 16x – 14 by x – a for \\nvarious integral values of a using a computer\\nalgebra system. Compare the remainder from\\neach division with f(a).\\n3.2 factor polynomial expressions in one variable,\\nof degree no higher than four, by selecting\\nand applying strategies (i.e., common factor-\\ning, difference of squares, trinomial factoring,\\nfactoring by grouping, remainder theorem,\\nfactor theorem)\\nSample problem: Factor: x + 2x – x – 2; \\nx – 6x + 4x + 6x – 5.\\n3.3 determine, through investigation using tech-\\nnology (e.g., graphing calculator, computer\\nalgebra systems), the connection between the\\nreal roots of a polynomial equation and the \\nx-intercepts of the graph of the corresponding\\npolynomial function, and describe this con-\\nnection [e.g., the real roots of the equation \\nx – 13x + 36 = 0 are the x-intercepts of the\\ngraph of f(x) = x – 13x + 36]\\nSample problem: Describe the relationship\\nbetween the x-intercepts of the graphs of \\nlinear and quadratic functions and the real\\nroots of the corresponding equations.\\nInvestigate, using technology, whether this\\nrelationship exists for polynomial functions\\nof higher degree.\\n3.4 solve polynomial equations in one variable, \\nof degree no higher than four (e.g., \\n2x – 3x + 8x – 12 = 0), by selecting and\\napplying strategies (i.e., common factoring,\\ndifference of squares, trinomial factoring, \\nfactoring by grouping, remainder theorem,\\nfactor theorem), and verify solutions using\\ntechnology (e.g., using computer algebra \\nsystems to determine the roots; using graph-\\ning technology to determine the x-intercepts\\nof the graph of the corresponding polynomial\\nfunction)\\n3.5 determine, through investigation using tech-\\nnology (e.g., graphing calculator, computer\\nalgebra systems), the connection between \\nthe real roots of a rational equation and the \\nx-intercepts of the graph of the corresponding\\nrational function, and describe this connection\\n[e.g., the real root of the equation = 0 \\nis 2, which is the x-intercept of the function \\nf(x) = ; the equation = 0 has no\\nnot intersect the x-axis]\\n3.6 solve simple rational equations in one variable\\nalgebraically, and verify solutions using tech-\\nnology (e.g., using computer algebra systems\\nto determine the roots; using graphing tech-\\nnology to determine the x-intercepts of the\\ngraph of the corresponding rational function)\\n3.7 solve problems involving applications of\\npolynomial and simple rational functions and\\nequations [e.g., problems involving the factor\\ntheorem or remainder theorem, such as deter-\\nmining the values of k for which the function\\nf(x) = x + 6x + kx – 4 gives the same remain-\\nder when divided by x – 1 and x + 2]\\nSample problem: Use long division to express\\nthe given function f(x) =               as the \\nsum of a polynomial function and a rational \\nfunction of the form (where A is a \\nconstant), make a conjecture about the rela-\\ntionship between the given function and the\\npolynomial function for very large positive\\nand negative x-values, and verify your con-\\njecture using graphing technology.\\nA\\nx – 1\\n32\\nx – 2\\nx – 3\\n1\\nx – 3\\nx – 2\\nx – 3\\n32\\n42\\n42\\n43 2\\n32\\n43 2\\nf(x)\\nx – a\\n3. Solving Polynomial and Rational\\nEquations\\n8x\\nnx + 1\\nreal roots, and the function f(x) = does 1\\nx – 3\\nx + 3x – 5\\nx – 1\\n2'),\n",
       " Document(metadata={'producer': 'macOS Version 15.3.2 (Build 24D81) Quartz PDFContext', 'creator': 'Preview', 'creationdate': \"D:20250322022618Z00'00'\", 'title': 'math1112currb-2', 'author': 'Yusuf Moola', 'moddate': \"D:20250322022618Z00'00'\", 'source': \"/Users/yusufmoola/Desktop/Code Demo's/GenAiHackathon/backend/Advanced-Functions.pdf\", 'total_pages': 14, 'page': 9, 'page_label': '10'}, page_content='By the end of this course, students will:\\n4.1 explain, for polynomial and simple rational\\nfunctions, the difference between the solution\\nto an equation in one variable and the solu-\\ntion to an inequality in one variable, and\\ndemonstrate that given solutions satisfy an\\ninequality (e.g., demonstrate numerically \\nand graphically that the solution to \\n< 5i s  x < –1o r  x > – );\\n4.2 determine solutions to polynomial inequali-\\nties in one variable [e.g., solve f(x) ≥ 0, where \\nf(x) = x – x + 3x – 9] and to simple rational\\ninequalities in one variable by graphing the\\ncorresponding functions, using graphing tech-\\nnology, and identifying intervals for which x\\nsatisfies the inequalities\\n4.3 solve linear inequalities and factorable poly-\\nnomial inequalities in one variable (e.g., \\nx + x > 0) in a variety of ways (e.g., by deter-\\nmining intervals using x-intercepts and evalu-\\nating the corresponding function for a single\\nx-value within each interval; by factoring the\\npolynomial and identifying the conditions for\\nwhich the product satisfies the inequality),\\nand represent the solutions on a number line\\nor algebraically (e.g., for the inequality \\nx – 5x + 4 < 0, the solution represented \\nalgebraically is – 2 < x < –1 or 1 < x < 2)\\n1\\nx + 1\\n42\\n32\\n32\\n4\\n5\\n4. Solving Inequalities\\n94\\nTHE ONTARIO CURRICULUM, GRADES 11 AND 12 | Mathematics Grade 12, University Preparation'),\n",
       " Document(metadata={'producer': 'macOS Version 15.3.2 (Build 24D81) Quartz PDFContext', 'creator': 'Preview', 'creationdate': \"D:20250322022618Z00'00'\", 'title': 'math1112currb-2', 'author': 'Yusuf Moola', 'moddate': \"D:20250322022618Z00'00'\", 'source': \"/Users/yusufmoola/Desktop/Code Demo's/GenAiHackathon/backend/Advanced-Functions.pdf\", 'total_pages': 14, 'page': 10, 'page_label': '11'}, page_content='95 CHARACTERISTICS OF FUNCTIONS\\nBy the end of this course, students will:\\n1.1 gather, interpret, and describe information\\nabout real-world applications of rates of\\nchange, and recognize different ways of \\nrepresenting rates of change (e.g., in words,\\nnumerically, graphically, algebraically)\\n1.2 recognize that the rate of change for a func-\\ntion is a comparison of changes in the depen-\\ndent variable to changes in the independent\\nvariable, and distinguish situations in which\\nthe rate of change is zero, constant, or chang-\\ning by examining applications, including\\nthose arising from real-world situations (e.g.,\\nrate of change of the area of a circle as the\\nradius increases, inflation rates, the rising\\ntrend in graduation rates among Aboriginal\\nyouth, speed of a cruising aircraft, speed of a\\ncyclist climbing a hill, infection rates)\\nSample problem: The population of bacteria\\nin a sample is 250 000 at 1:00 p.m., 500 000 at\\n3:00 p.m., and 1 000 000 at 5:00 p.m. Compare\\nmethods used to calculate the change in \\nthe population and the rate of change in the \\npopulation between 1:00 p.m. to 5:00 p.m. Is\\nthe rate of change constant? Explain your\\nreasoning.\\n1.3 sketch a graph that represents a relationship\\ninvolving rate of change, as described in\\nwords, and verify with technology (e.g.,\\nmotion sensor) when possible \\nSample problem: John rides his bicycle at a\\nconstant cruising speed along a flat road. He\\nthen decelerates (i.e., decreases speed) as he\\nclimbs a hill. At the top, he accelerates (i.e.,\\nincreases speed) on a flat road back to his\\nconstant cruising speed, and he then acceler-\\nates down a hill. Finally, he comes to another\\nhill and glides to a stop as he starts to climb.\\nSketch a graph of John’s speed versus time\\nand a graph of his distance travelled versus\\ntime.\\n1.4 calculate and interpret average rates of change\\nof functions (e.g., linear, quadratic, exponential,\\nsinusoidal) arising from real-world applications\\n(e.g., in the natural, physical, and social sciences),\\ngiven various representations of the functions\\n(e.g., tables of values, graphs, equations)\\nSample problem: Fluorine-20 is a radioactive\\nsubstance that decays over time. At time 0,\\nthe mass of a sample of the substance is 20 g.\\nThe mass decreases to 10 g after 11 s, to 5 g\\nafter 22 s, and to 2.5 g after 33 s. Compare\\nthe average rate of change over the 33-s\\ninterval with the average rate of change over\\nconsecutive 11-s intervals.\\n1.5 recognize examples of instantaneous rates of\\nchange arising from real-world situations, and\\nmake connections between instantaneous\\nrates of change and average rates of change\\n(e.g., an average rate of change can be used to\\napproximate an instantaneous rate of change)\\n1. Understanding Rates of Change\\nGrade 12, University Preparation\\nD.  CHARACTERISTICS OF FUNCTIONS\\nOVERALL EXPECTATIONS \\nBy the end of this course, students will:\\n1. demonstrate an understanding of average and instantaneous rate of change, and determine, \\nnumerically and graphically, and interpret the average rate of change of a function over a given \\ninterval and the instantaneous rate of change of a function at a given point;\\n2. determine functions that result from the addition, subtraction, multiplication, and division of two \\nfunctions and from the composition of two functions, describe some properties of the resulting \\nfunctions, and solve related problems;\\n3. compare the characteristics of functions, and solve problems by modelling and reasoning with \\nfunctions, including problems with solutions that are not accessible by standard algebraic techniques.\\nSPECIFIC EXPECTATIONS \\nAdvanced Functions\\nMHF4U'),\n",
       " Document(metadata={'producer': 'macOS Version 15.3.2 (Build 24D81) Quartz PDFContext', 'creator': 'Preview', 'creationdate': \"D:20250322022618Z00'00'\", 'title': 'math1112currb-2', 'author': 'Yusuf Moola', 'moddate': \"D:20250322022618Z00'00'\", 'source': \"/Users/yusufmoola/Desktop/Code Demo's/GenAiHackathon/backend/Advanced-Functions.pdf\", 'total_pages': 14, 'page': 11, 'page_label': '12'}, page_content='Sample problem: In general, does the speedo-\\nmeter of a car measure instantaneous rate of\\nchange (i.e., instantaneous speed) or average\\nrate of change (i.e., average speed)? Describe\\nsituations in which the instantaneous speed\\nand the average speed would be the same.\\n1.6 determine, through investigation using various\\nrepresentations of relationships (e.g., tables of\\nvalues, graphs, equations), approximate instan-\\ntaneous rates of change arising from real-world\\napplications (e.g., in the natural, physical, and\\nsocial sciences) by using average rates of\\nchange and reducing the interval over which\\nthe average rate of change is determined\\nSample problem: The distance, d metres, \\ntravelled by a falling object in t seconds is\\nrepresented by d = 5t . When t = 3, the\\ninstantaneous speed of the object is 30 m/s.\\nCompare the average speeds over different\\ntime intervals starting at t = 3 with the\\ninstantaneous speed when t = 3. Use your\\nobservations to select an interval that can be\\nused to provide a good approximation of the\\ninstantaneous speed at t = 3.\\n1.7 make connections, through investigation,\\nbetween the slope of a secant on the graph \\nof a function (e.g., quadratic, exponential,\\nsinusoidal) and the average rate of change \\nof the function over an interval, and between\\nthe slope of the tangent to a point on the\\ngraph of a function and the instantaneous \\nrate of change of the function at that point\\nSample problem: Use tangents to investigate\\nthe behaviour of a function when the instan-\\ntaneous rate of change is zero, positive, or\\nnegative.\\n1.8 determine, through investigation using a vari-\\nety of tools and strategies (e.g., using a table\\nof values to calculate slopes of secants or\\ngraphing secants and measuring their slopes\\nwith technology), the approximate slope of\\nthe tangent to a given point on the graph of \\na function (e.g., quadratic, exponential, sinu-\\nsoidal) by using the slopes of secants through\\nthe given point (e.g., investigating the slopes\\nof secants that approach the tangent at that\\npoint more and more closely), and make con-\\nnections to average and instantaneous rates \\nof change\\n1.9 solve problems involving average and instan-\\ntaneous rates of change, including problems\\narising from real-world applications, by using\\nnumerical and graphical methods (e.g., by\\nusing graphing technology to graph a tangent\\nand measure its slope)\\nSample problem: The height, h metres, of a\\nball above the ground can be modelled by\\nthe function h(t) = –5t + 20t, where t is \\nthe time in seconds. Use average speeds to\\ndetermine the approximate instantaneous\\nspeed at t = 3.\\nBy the end of this course, students will:\\n2.1 determine, through investigation using graph-\\ning technology, key features (e.g., domain,\\nrange, maximum/ minimum points, number\\nof zeros) of the graphs of functions created by\\nadding, subtracting, multiplying, or dividing\\nfunctions [e.g., f(x) = 2s i n 4 x, g(x) = x + 2 , \\nh(x) = ], and describe factors that affect \\nthese properties\\nSample problem: Investigate the effect of \\nthe behaviours of f(x) = sin x, f(x) = sin 2x,\\nand f(x) = sin 4x on the shape of \\nf(x) = sin x + sin 2x + sin 4x.\\n2.2 recognize real-world applications of combi-\\nnations of functions (e.g., the motion of a\\ndamped pendulum can be represented by a\\nfunction that is the product of a trigonometric\\nfunction and an exponential function; the fre-\\nquencies of tones associated with the numbers\\non a telephone involve the addition of two\\ntrigonometric functions), and solve related\\nproblems graphically \\nSample problem: The rate at which a conta-\\nminant leaves a storm sewer and enters a\\nlake depends on two factors: the concentra-\\ntion of the contaminant in the water from the\\nsewer and the rate at which the water leaves\\nthe sewer. Both of these factors vary with\\ntime. The concentration of the contaminant,\\nin kilograms per cubic metre of water, is\\ngiven by c(t) = t , where t is in seconds. The\\nrate at which water leaves the sewer, in cubic \\nmetres per second, is given by w(t) =        . \\nDetermine the time at which the contaminant\\nleaves the sewer and enters the lake at the\\nmaximum rate.\\n2\\nsin x\\ncos x\\n–x 2 x\\n2. Combining Functions\\n2\\n2\\nTHE ONTARIO CURRICULUM, GRADES 11 AND 12 | Mathematics\\n96\\nGrade 12, University Preparation\\n1\\nt + 104'),\n",
       " Document(metadata={'producer': 'macOS Version 15.3.2 (Build 24D81) Quartz PDFContext', 'creator': 'Preview', 'creationdate': \"D:20250322022618Z00'00'\", 'title': 'math1112currb-2', 'author': 'Yusuf Moola', 'moddate': \"D:20250322022618Z00'00'\", 'source': \"/Users/yusufmoola/Desktop/Code Demo's/GenAiHackathon/backend/Advanced-Functions.pdf\", 'total_pages': 14, 'page': 12, 'page_label': '13'}, page_content='2.3 determine, through investigation, and explain\\nsome properties (i.e., odd, even, or neither;\\nincreasing/ decreasing behaviours) of functions\\nformed by adding, subtracting, multiplying,\\nand dividing general functions [e.g., \\nf(x) + g(x), f(x)g(x)] \\nSample problem: Investigate algebraically,\\nand verify numerically and graphically,\\nwhether the product of two functions is even\\nor odd if the two functions are both even or\\nboth odd, or if one function is even and the\\nother is odd.\\n2.4 determine the composition of two functions\\n[i.e., f(g(x))] numerically (i.e., by using a table\\nof values) and graphically, with technology,\\nfor functions represented in a variety of ways\\n(e.g., function machines, graphs, equations),\\nand interpret the composition of two func-\\ntions in real-world applications\\nSample problem: For a car travelling at a con-\\nstant speed, the distance driven, d kilometres,\\nis represented by d(t) = 80t, where t is the\\ntime in hours. The cost of gasoline, in dollars,\\nfor the drive is represented by C(d) = 0.09d.\\nDetermine numerically and interpret C(d(5)),\\nand describe the relationship represented by\\nC(d(t)).\\n2.5 determine algebraically the composition of\\ntwo functions [i.e., f(g(x))], verify that f(g(x))\\nis not always equal to g( f(x)) [e.g., by deter-\\nmining f(g(x)) and g( f(x)), given f(x) = x + 1\\nand g(x) = 2x], and state the domain [i.e., by\\ndefining f(g(x)) for those x-values for which\\ng(x)i s  d e f i n e d  a n d  f o r  w h i c h  i t  i s  i n c l u d e d  i n\\nthe domain of f(x)] and the range of the com-\\nposition of two functions\\nSample problem: Determine f(g(x)) and g( f(x))\\ngiven f(x) = cos x and g(x) = 2x + 1, state the\\ndomain and range of f(g(x)) and g( f(x)), com-\\npare f(g(x)) with g( f(x)) algebraically, and\\nverify numerically and graphically with \\ntechnology.\\n2.6 solve problems involving the composition of\\ntwo functions, including problems arising\\nfrom real-world applications\\nSample problem: The speed of a car, v kilo-\\nmetres per hour, at a time of t hours is repre-\\nsented by v(t) = 40 + 3t + t . The rate of \\ngasoline consumption of the car, c litres per\\nkilometre, at a speed of v kilometres per hour \\nis represented by c(v) = ( – 0.1) + 0.15. \\nDetermine algebraically c(v(t)), the rate of\\ngasoline consumption as a function of time.\\nDetermine, using technology, the time when\\nthe car is running most economically during\\na four-hour trip.\\n2.7 demonstrate, by giving examples for func-\\ntions represented in a variety of ways (e.g.,\\nfunction machines, graphs, equations), the\\nproperty that the composition of a function\\nand its inverse function maps a number onto\\nitself [i.e., f ( f(x)) = x and f( f (x)) = x\\ndemonstrate that the inverse function is the\\nreverse process of the original function and\\nthat it undoes what the function does] \\n2.8 make connections, through investigation\\nusing technology, between transformations\\n(i.e., vertical and horizontal translations;\\nreflections in the axes; vertical and horizontal\\nstretches and compressions to and from the \\nx- and y-axes) of simple functions f(x)[ e . g . ,\\nf(x) = x + 20, f(x) = sin x, f(x) = log x] and \\nthe composition of these functions with a \\nlinear function of the form g(x) = A(x + B)\\nSample problem: Compare the graph of \\nf(x) = x with the graphs of f(g(x)) and\\ng( f(x)), where g(x) = 2(x – d), for various \\nvalues of d. Describe the effects of d in \\nterms of transformations of f(x).\\nBy the end of this course, students will:\\n3.1 compare, through investigation using a vari-\\nety of tools and strategies (e.g., graphing with\\ntechnology; comparing algebraic representa-\\ntions; comparing finite differences in tables of\\nvalues) the characteristics (e.g., key features of\\nthe graphs, forms of the equations) of various\\nfunctions (i.e., polynomial, rational, trigono-\\nmetric, exponential, logarithmic)\\n3.2 solve graphically and numerically equations\\nand inequalities whose solutions are not\\naccessible by standard algebraic techniques\\nSample problem: Solve: 2x < 2 ; cos x = x,\\nwith x in radians.\\n3.3 solve problems, using a variety of tools and\\nstrategies, including problems arising from\\nreal-world applications, by reasoning with\\nfunctions and by applying concepts and \\nprocedures involving functions (e.g., by \\n2 x\\n3. Using Function Models to Solve\\nProblems\\n2\\n3\\n–1 –1\\nv\\n500\\n2\\n2\\n97 Advanced Functions\\nMHF4U\\nCHARACTERISTICS OF FUNCTIONS'),\n",
       " Document(metadata={'producer': 'macOS Version 15.3.2 (Build 24D81) Quartz PDFContext', 'creator': 'Preview', 'creationdate': \"D:20250322022618Z00'00'\", 'title': 'math1112currb-2', 'author': 'Yusuf Moola', 'moddate': \"D:20250322022618Z00'00'\", 'source': \"/Users/yusufmoola/Desktop/Code Demo's/GenAiHackathon/backend/Advanced-Functions.pdf\", 'total_pages': 14, 'page': 13, 'page_label': '14'}, page_content='constructing a function model from data,\\nusing the model to determine mathematical\\nresults, and interpreting and communicating\\nthe results within the context of the problem) \\nSample problem: The pressure of a car tire\\nwith a slow leak is given in the following\\ntable of values:\\nTime, t (min) Pressure, P (kPa)\\n04 0 0\\n53 3 5\\n10 295\\n15 255\\n20 225\\n25 195\\n30 170\\nUse technology to investigate linear, quad-\\nratic, and exponential models for the relation-\\nship of the tire pressure and time, and describe\\nhow well each model fits the data. Use each\\nmodel to predict the pressure after 60 min.\\nWhich model gives the most realistic\\nanswer?\\n98\\nTHE ONTARIO CURRICULUM, GRADES 11 AND 12 | Mathematics Grade 12, University Preparation')]"
      ]
     },
     "execution_count": 185,
     "metadata": {},
     "output_type": "execute_result"
    }
   ],
   "source": [
    "docs"
   ]
  },
  {
   "cell_type": "code",
   "execution_count": 186,
   "metadata": {},
   "outputs": [
    {
     "data": {
      "text/plain": [
       "[Document(metadata={'producer': 'macOS Version 15.3.2 (Build 24D81) Quartz PDFContext', 'creator': 'Preview', 'creationdate': \"D:20250322022618Z00'00'\", 'title': 'math1112currb-2', 'author': 'Yusuf Moola', 'moddate': \"D:20250322022618Z00'00'\", 'source': \"/Users/yusufmoola/Desktop/Code Demo's/GenAiHackathon/backend/Advanced-Functions.pdf\", 'total_pages': 14, 'page': 0, 'page_label': '1'}, page_content='Advanced Functions, \\nGrade 12\\nUniversity Preparation MHF4U\\nThis course extends students’ experience with functions. Students will investigate the\\nproperties of polynomial, rational, logarithmic, and trigonometric functions; develop\\ntechniques for combining functions; broaden their understanding of rates of change; and\\ndevelop facility in applying these concepts and skills. Students will also refine their use\\nof the mathematical processes necessary for success in senior mathematics. This course \\nis intended both for students taking the Calculus and Vectors course as a prerequisite \\nfor a university program and for those wishing to consolidate their understanding of\\nmathematics before proceeding to any one of a variety of university programs. \\nPrerequisite: Functions, Grade 11, University Preparation, or Mathematics for College\\nTechnology, Grade 12, College Preparation\\n85'),\n",
       " Document(metadata={'producer': 'macOS Version 15.3.2 (Build 24D81) Quartz PDFContext', 'creator': 'Preview', 'creationdate': \"D:20250322022618Z00'00'\", 'title': 'math1112currb-2', 'author': 'Yusuf Moola', 'moddate': \"D:20250322022618Z00'00'\", 'source': \"/Users/yusufmoola/Desktop/Code Demo's/GenAiHackathon/backend/Advanced-Functions.pdf\", 'total_pages': 14, 'page': 1, 'page_label': '2'}, page_content='86\\nCommunicating\\nRepresenting\\nConnecting\\nSelecting Tools and\\nComputational\\nStrategies\\nReflecting\\nReasoning and\\nProving\\nProblem Solving\\n• develop, select, apply, compare, and adapt a variety of problem-solving \\nstrategies as they pose and solve problems and conduct investigations, to \\nhelp deepen their mathematical understanding;\\n• develop and apply reasoning skills (e.g., use of inductive reasoning, deductive\\nreasoning, and counter-examples; construction of proofs) to make mathematical\\nconjectures, assess conjectures, and justify conclusions, and plan and construct\\norganized mathematical arguments;\\n• demonstrate that they are reflecting on and monitoring their thinking to \\nhelp clarify their understanding as they complete an investigation or solve a\\nproblem (e.g., by assessing the effectiveness of strategies and processes used, \\nby proposing alternative approaches, by judging the reasonableness of results, \\nby verifying solutions);'),\n",
       " Document(metadata={'producer': 'macOS Version 15.3.2 (Build 24D81) Quartz PDFContext', 'creator': 'Preview', 'creationdate': \"D:20250322022618Z00'00'\", 'title': 'math1112currb-2', 'author': 'Yusuf Moola', 'moddate': \"D:20250322022618Z00'00'\", 'source': \"/Users/yusufmoola/Desktop/Code Demo's/GenAiHackathon/backend/Advanced-Functions.pdf\", 'total_pages': 14, 'page': 1, 'page_label': '2'}, page_content='problem (e.g., by assessing the effectiveness of strategies and processes used, \\nby proposing alternative approaches, by judging the reasonableness of results, \\nby verifying solutions);\\n• select and use a variety of concrete, visual, and electronic learning tools and\\nappropriate computational strategies to investigate mathematical ideas and \\nto solve problems;\\n• make connections among mathematical concepts and procedures, and relate\\nmathematical ideas to situations or phenomena drawn from other contexts \\n(e.g., other curriculum areas, daily life, current events, art and culture, sports);\\n• create a variety of representations of mathematical ideas (e.g., numeric, \\ngeometric, algebraic, graphical, pictorial representations; onscreen dynamic \\nrepresentations), connect and compare them, and select and apply the \\nappropriate representations to solve problems;\\n• communicate mathematical thinking orally, visually, and in writing, using precise'),\n",
       " Document(metadata={'producer': 'macOS Version 15.3.2 (Build 24D81) Quartz PDFContext', 'creator': 'Preview', 'creationdate': \"D:20250322022618Z00'00'\", 'title': 'math1112currb-2', 'author': 'Yusuf Moola', 'moddate': \"D:20250322022618Z00'00'\", 'source': \"/Users/yusufmoola/Desktop/Code Demo's/GenAiHackathon/backend/Advanced-Functions.pdf\", 'total_pages': 14, 'page': 1, 'page_label': '2'}, page_content='appropriate representations to solve problems;\\n• communicate mathematical thinking orally, visually, and in writing, using precise\\nmathematical vocabulary and a variety of appropriate representations, and\\nobserving mathematical conventions.\\nMATHEMATICAL PROCESS EXPECTATIONS\\nThe mathematical processes are to be integrated into student learning in all areas of this course.\\nThroughout this course, students will:'),\n",
       " Document(metadata={'producer': 'macOS Version 15.3.2 (Build 24D81) Quartz PDFContext', 'creator': 'Preview', 'creationdate': \"D:20250322022618Z00'00'\", 'title': 'math1112currb-2', 'author': 'Yusuf Moola', 'moddate': \"D:20250322022618Z00'00'\", 'source': \"/Users/yusufmoola/Desktop/Code Demo's/GenAiHackathon/backend/Advanced-Functions.pdf\", 'total_pages': 14, 'page': 2, 'page_label': '3'}, page_content='A.  EXPONENTIAL AND LOGARITHMIC \\nFUNCTIONS\\nOVERALL EXPECTATIONS \\nBy the end of this course, students will:\\n1. demonstrate an understanding of the relationship between exponential expressions and logarithmic\\nexpressions, evaluate logarithms, and apply the laws of logarithms to simplify numeric expressions;\\n2. identify and describe some key features of the graphs of logarithmic functions, make connections\\namong the numeric, graphical, and algebraic representations of logarithmic functions, and solve \\nrelated problems graphically;\\n3. solve exponential and simple logarithmic equations in one variable algebraically, including those \\nin problems arising from real-world applications.\\nSPECIFIC EXPECTATIONS \\ncan also be expressed as 5 = 125), and solve\\nsimple exponential equations by rewriting\\nthem in logarithmic form (e.g., solving 3 = 10\\nby rewriting the equation as log 10 = x)3\\nx\\n3\\nAdvanced Functions\\nMHF4U\\nand h(x) = log x using graphing technology.8\\nBy the end of this course, students will:'),\n",
       " Document(metadata={'producer': 'macOS Version 15.3.2 (Build 24D81) Quartz PDFContext', 'creator': 'Preview', 'creationdate': \"D:20250322022618Z00'00'\", 'title': 'math1112currb-2', 'author': 'Yusuf Moola', 'moddate': \"D:20250322022618Z00'00'\", 'source': \"/Users/yusufmoola/Desktop/Code Demo's/GenAiHackathon/backend/Advanced-Functions.pdf\", 'total_pages': 14, 'page': 2, 'page_label': '3'}, page_content='by rewriting the equation as log 10 = x)3\\nx\\n3\\nAdvanced Functions\\nMHF4U\\nand h(x) = log x using graphing technology.8\\nBy the end of this course, students will:\\n1.1 recognize the logarithm of a number to a\\ngiven base as the exponent to which the base\\nmust be raised to get the number, recognize\\nthe operation of ﬁnding the logarithm to be\\nthe inverse operation (i.e., the undoing or\\nreversing) of exponentiation, and evaluate\\nsimple logarithmic expressions\\nSample problem: Why is it not possible to\\ndetermine log ( –3) or log 0? Explain your\\nreasoning.\\n1.2 determine, with technology, the approximate\\nlogarithm of a number to any base, including\\nbase 10 (e.g., by reasoning that log 29 is\\nbetween 3 and 4 and using systematic trial to\\ndetermine that  log 29 is approximately 3.07)\\n1.3 make connections between related logarithmic\\nand exponential equations (e.g., log 125 = 3\\n1.4 make connections between the laws of expo-\\nnents and the laws of logarithms [e.g., use'),\n",
       " Document(metadata={'producer': 'macOS Version 15.3.2 (Build 24D81) Quartz PDFContext', 'creator': 'Preview', 'creationdate': \"D:20250322022618Z00'00'\", 'title': 'math1112currb-2', 'author': 'Yusuf Moola', 'moddate': \"D:20250322022618Z00'00'\", 'source': \"/Users/yusufmoola/Desktop/Code Demo's/GenAiHackathon/backend/Advanced-Functions.pdf\", 'total_pages': 14, 'page': 2, 'page_label': '3'}, page_content='1.3 make connections between related logarithmic\\nand exponential equations (e.g., log 125 = 3\\n1.4 make connections between the laws of expo-\\nnents and the laws of logarithms [e.g., use \\nthe statement 10 = 10 10 to deduce that\\nlog x + log y = log ( xy)], verify the laws of\\nlogarithms with or without technology (e.g.,\\nuse patterning to verify the quotient law for\\nlogarithms by evaluating expressions such as\\nlog 1000 – log 100 and then rewriting the\\nanswer as a logarithmic term to the same\\nbase), and use the laws of logarithms to \\nsimplify and evaluate numerical expressions\\nBy the end of this course, students will:\\n2.1 determine, through investigation with tech-\\nnology (e.g., graphing calculator, spreadsheet)\\nand without technology, key features (i.e.,\\nvertical and horizontal asymptotes, domain\\nand range, intercepts, increasing/decreasing\\nbehaviour) of the graphs of logarithmic func-\\ntions of the form f(x) = log x, and make con-\\nnections between the algebraic and graphical'),\n",
       " Document(metadata={'producer': 'macOS Version 15.3.2 (Build 24D81) Quartz PDFContext', 'creator': 'Preview', 'creationdate': \"D:20250322022618Z00'00'\", 'title': 'math1112currb-2', 'author': 'Yusuf Moola', 'moddate': \"D:20250322022618Z00'00'\", 'source': \"/Users/yusufmoola/Desktop/Code Demo's/GenAiHackathon/backend/Advanced-Functions.pdf\", 'total_pages': 14, 'page': 2, 'page_label': '3'}, page_content='and range, intercepts, increasing/decreasing\\nbehaviour) of the graphs of logarithmic func-\\ntions of the form f(x) = log x, and make con-\\nnections between the algebraic and graphical\\nrepresentations of these logarithmic functions\\nSample problem: Compare the key features\\nof the graphs of f(x) = log x, g(x) = log x, \\n2.2 recognize the relationship between an expo-\\nnential function and the corresponding loga-\\nrithmic function to be that of a function and\\nits inverse, deduce that the graph of a loga-\\nrithmic function is the reflection of the graph\\nof the corresponding exponential function in\\nthe line y = x, and verify the deduction using\\ntechnology \\n24\\nb\\n2. Connecting Graphs and Equations \\nof Logarithmic Functions\\n1010\\na+b b a\\n101010\\n5\\n3\\n3\\n210\\n1. Evaluating Logarithmic Expressions\\nEXPONENTIAL AND LOGARITHMIC FUNCTIONS\\n87'),\n",
       " Document(metadata={'producer': 'macOS Version 15.3.2 (Build 24D81) Quartz PDFContext', 'creator': 'Preview', 'creationdate': \"D:20250322022618Z00'00'\", 'title': 'math1112currb-2', 'author': 'Yusuf Moola', 'moddate': \"D:20250322022618Z00'00'\", 'source': \"/Users/yusufmoola/Desktop/Code Demo's/GenAiHackathon/backend/Advanced-Functions.pdf\", 'total_pages': 14, 'page': 3, 'page_label': '4'}, page_content='88\\nSample problem: Give examples to show that\\nthe inverse of a function is not necessarily a\\nfunction. Use the key features of the graphs of\\nlogarithmic and exponential functions to give\\nreasons why the inverse of an exponential\\nfunction is a function.\\n2.3 determine, through investigation using technol-\\nogy, the roles of the parameters d and c in\\nfunctions of the form y = log ( x – d) + c and\\nthe roles of the parameters a and k in func-\\ntions of the form y = alog ( kx), and describe\\nthese roles in terms of transformations on the   \\nhorizontal translations; reflections in the axes;\\nvertical and horizontal stretches and \\ncompressions to and from the x- and y-axes)\\nSample problem: Investigate the graphs of\\nf(x) = log ( x) + c, f(x) = log ( x – d),\\nvarious values of c, d, a, and k, using technol-\\nogy, describe the effects of changing these\\nparameters in terms of transformations, and\\nmake connections to the transformations of\\nother functions such as polynomial functions,'),\n",
       " Document(metadata={'producer': 'macOS Version 15.3.2 (Build 24D81) Quartz PDFContext', 'creator': 'Preview', 'creationdate': \"D:20250322022618Z00'00'\", 'title': 'math1112currb-2', 'author': 'Yusuf Moola', 'moddate': \"D:20250322022618Z00'00'\", 'source': \"/Users/yusufmoola/Desktop/Code Demo's/GenAiHackathon/backend/Advanced-Functions.pdf\", 'total_pages': 14, 'page': 3, 'page_label': '4'}, page_content='ogy, describe the effects of changing these\\nparameters in terms of transformations, and\\nmake connections to the transformations of\\nother functions such as polynomial functions,\\nexponential functions, and trigonometric\\nfunctions.\\n2.4 pose problems based on real-world applica-\\ntions of exponential and logarithmic functions\\n(e.g., exponential growth and decay, the\\nRichter scale, the pH scale, the decibel scale),\\nand solve these and other such problems by\\nusing a given graph or a graph generated\\nwith technology from a table of values or\\nfrom its equation\\nSample problem: The pH or acidity of a solu-\\ntion is given by the equation pH = –logC,\\nwhere C is the concentration of [H ] ions in\\nmultiples of M = 1 mol/L. Use graphing \\nsoftware to graph this function. What is the\\nchange in pH if the solution is diluted from a\\nconcentration of 0.1M to a concentration of\\n0.01M? From 0.001M to 0.0001M? Describe\\nthe change in pH when the concentration of \\nany acidic solution is reduced to of its'),\n",
       " Document(metadata={'producer': 'macOS Version 15.3.2 (Build 24D81) Quartz PDFContext', 'creator': 'Preview', 'creationdate': \"D:20250322022618Z00'00'\", 'title': 'math1112currb-2', 'author': 'Yusuf Moola', 'moddate': \"D:20250322022618Z00'00'\", 'source': \"/Users/yusufmoola/Desktop/Code Demo's/GenAiHackathon/backend/Advanced-Functions.pdf\", 'total_pages': 14, 'page': 3, 'page_label': '4'}, page_content='concentration of 0.1M to a concentration of\\n0.01M? From 0.001M to 0.0001M? Describe\\nthe change in pH when the concentration of \\nany acidic solution is reduced to of its\\noriginal concentration. Rearrange the given\\nequation to determine concentration as a\\nfunction of pH.\\nBy the end of this course, students will:\\n3.1 recognize equivalent algebraic expressions\\ninvolving logarithms and exponents, and \\nsimplify expressions of these types\\nSample problem: Sketch the graphs of \\nf(x) = log (100 x) and g(x) = 2 + log x, \\ncompare the graphs, and explain your \\nfindings algebraically.\\n3.2 solve exponential equations in one variable \\nby determining a common base (e.g., solve \\n4 = 8 by expressing each side as a power\\nof 2) and by using logarithms (e.g., solve \\n4 = 8 by taking the logarithm base 2 \\nof both sides), recognizing that logarithms \\nbase 10 are commonly used (e.g., solving \\n3 = 7 by taking the logarithm base 10 of \\nboth sides) \\nSample problem: Solve 300(1.05) = 600 and'),\n",
       " Document(metadata={'producer': 'macOS Version 15.3.2 (Build 24D81) Quartz PDFContext', 'creator': 'Preview', 'creationdate': \"D:20250322022618Z00'00'\", 'title': 'math1112currb-2', 'author': 'Yusuf Moola', 'moddate': \"D:20250322022618Z00'00'\", 'source': \"/Users/yusufmoola/Desktop/Code Demo's/GenAiHackathon/backend/Advanced-Functions.pdf\", 'total_pages': 14, 'page': 3, 'page_label': '4'}, page_content='of both sides), recognizing that logarithms \\nbase 10 are commonly used (e.g., solving \\n3 = 7 by taking the logarithm base 10 of \\nboth sides) \\nSample problem: Solve 300(1.05) = 600 and \\n2 – 2 = 12 either by finding a common\\nbase or by taking logarithms, and explain\\nyour choice of method in each case.\\n3.3 solve simple logarithmic equations in one\\nvariable algebraically [e.g., log (5 x + 6) = 2, \\nlog ( x + 1) = 1]\\n3.4 solve problems involving exponential and\\nlogarithmic equations algebraically, includ-\\ning problems arising from real-world \\napplications\\nSample problem: The pH or acidity of a solu-\\ntion is given by the equation pH = –logC,\\nwhere C is the concentration of [H ] ions in\\nmultiples of M = 1 mol/L. You are given a\\nsolution of hydrochloric acid with a pH of 1.7\\nand asked to increase the pH of the solution\\nby 1.4. Determine how much you must dilute\\nthe solution. Does your answer differ if you\\nstart with a pH of 2.2?\\n+\\n1\\n10\\n+\\nx+ 2\\nx+ 3x\\nx\\n10\\n3\\nx\\nn\\nx\\nx+ 3\\n1010'),\n",
       " Document(metadata={'producer': 'macOS Version 15.3.2 (Build 24D81) Quartz PDFContext', 'creator': 'Preview', 'creationdate': \"D:20250322022618Z00'00'\", 'title': 'math1112currb-2', 'author': 'Yusuf Moola', 'moddate': \"D:20250322022618Z00'00'\", 'source': \"/Users/yusufmoola/Desktop/Code Demo's/GenAiHackathon/backend/Advanced-Functions.pdf\", 'total_pages': 14, 'page': 3, 'page_label': '4'}, page_content='and asked to increase the pH of the solution\\nby 1.4. Determine how much you must dilute\\nthe solution. Does your answer differ if you\\nstart with a pH of 2.2?\\n+\\n1\\n10\\n+\\nx+ 2\\nx+ 3x\\nx\\n10\\n3\\nx\\nn\\nx\\nx+ 3\\n1010\\n3. Solving Exponential and\\nLogarithmic Equations\\n1010\\n10\\n10\\nTHE ONTARIO CURRICULUM, GRADES 11 AND 12 | Mathematics Grade 12, University Preparation\\ngraph of f(x) = log x (i.e., vertical and10\\nf(x) = alog x, and f(x) = log ( kx)f o r1010'),\n",
       " Document(metadata={'producer': 'macOS Version 15.3.2 (Build 24D81) Quartz PDFContext', 'creator': 'Preview', 'creationdate': \"D:20250322022618Z00'00'\", 'title': 'math1112currb-2', 'author': 'Yusuf Moola', 'moddate': \"D:20250322022618Z00'00'\", 'source': \"/Users/yusufmoola/Desktop/Code Demo's/GenAiHackathon/backend/Advanced-Functions.pdf\", 'total_pages': 14, 'page': 4, 'page_label': '5'}, page_content='Advanced Functions\\nMHF4U\\nB.  TRIGONOMETRIC FUNCTIONS  \\nOVERALL EXPECTATIONS \\nBy the end of this course, students will:\\n1. demonstrate an understanding of the meaning and application of radian measure;\\n2. make connections between trigonometric ratios and the graphical and algebraic representations of \\nthe corresponding trigonometric functions and between trigonometric functions and their reciprocals,\\nand use these connections to solve problems;\\n3. solve problems involving trigonometric equations and prove trigonometric identities.\\nSPECIFIC EXPECTATIONS \\n1\\nsin x\\n1\\nf(x)\\nTRIGONOMETRIC FUNCTIONS\\n89\\nBy the end of this course, students will:\\n1.1 recognize the radian as an alternative unit to\\nthe degree for angle measurement, define the\\nradian measure of an angle as the length of\\nthe arc that subtends this angle at the centre\\nof a unit circle, and develop and apply the\\nrelationship between radian and degree \\nmeasure\\n1.2 represent radian measure in terms of π (e.g.,'),\n",
       " Document(metadata={'producer': 'macOS Version 15.3.2 (Build 24D81) Quartz PDFContext', 'creator': 'Preview', 'creationdate': \"D:20250322022618Z00'00'\", 'title': 'math1112currb-2', 'author': 'Yusuf Moola', 'moddate': \"D:20250322022618Z00'00'\", 'source': \"/Users/yusufmoola/Desktop/Code Demo's/GenAiHackathon/backend/Advanced-Functions.pdf\", 'total_pages': 14, 'page': 4, 'page_label': '5'}, page_content='the arc that subtends this angle at the centre\\nof a unit circle, and develop and apply the\\nrelationship between radian and degree \\nmeasure\\n1.2 represent radian measure in terms of π (e.g.,  \\nradians, 2π radians) and as a rational number\\n(e.g., 1.05 radians, 6.28 radians)\\n1.3 determine, with technology, the primary\\ntrigonometric ratios (i.e., sine, cosine, tangent)\\nand the reciprocal trigonometric ratios (i.e.,\\ncosecant, secant, cotangent) of angles\\nexpressed in radian measure \\n1.4 determine, without technology, the exact \\nvalues of the primary trigonometric ratios \\nand the reciprocal trigonometric ratios for  \\nthe special angles 0, , , , , and their \\nmultiples less than or equal to 2 π\\nBy the end of this course, students will:\\n2.1 sketch the graphs of f(x) = sin x and f(x) = cos x\\nfor angle measures expressed in radians, and\\ndetermine and describe some key properties\\n(e.g., period of 2π, amplitude of 1) in terms of\\nradians\\n2.2 make connections between the tangent ratio'),\n",
       " Document(metadata={'producer': 'macOS Version 15.3.2 (Build 24D81) Quartz PDFContext', 'creator': 'Preview', 'creationdate': \"D:20250322022618Z00'00'\", 'title': 'math1112currb-2', 'author': 'Yusuf Moola', 'moddate': \"D:20250322022618Z00'00'\", 'source': \"/Users/yusufmoola/Desktop/Code Demo's/GenAiHackathon/backend/Advanced-Functions.pdf\", 'total_pages': 14, 'page': 4, 'page_label': '5'}, page_content='for angle measures expressed in radians, and\\ndetermine and describe some key properties\\n(e.g., period of 2π, amplitude of 1) in terms of\\nradians\\n2.2 make connections between the tangent ratio\\nand the tangent function by using technology\\nto graph the relationship between angles in\\nradians and their tangent ratios and defining\\nthis relationship as the function f(x) = tan x,\\nand describe key properties of the tangent\\nfunction\\n2.3 graph, with technology and using the primary\\ntrigonometric functions, the reciprocal\\ntrigonometric functions (i.e., cosecant, secant,\\ncotangent) for angle measures expressed in\\nradians, determine and describe key proper-\\nties of the reciprocal functions (e.g., state the\\ndomain, range, and period, and identify and\\nexplain the occurrence of asymptotes), and\\nrecognize notations used to represent the\\nreciprocal functions [e.g., the reciprocal of \\nf(x) = sin x can be represented using csc x,\\n, or        , but not using f (x)o r  s i n x,'),\n",
       " Document(metadata={'producer': 'macOS Version 15.3.2 (Build 24D81) Quartz PDFContext', 'creator': 'Preview', 'creationdate': \"D:20250322022618Z00'00'\", 'title': 'math1112currb-2', 'author': 'Yusuf Moola', 'moddate': \"D:20250322022618Z00'00'\", 'source': \"/Users/yusufmoola/Desktop/Code Demo's/GenAiHackathon/backend/Advanced-Functions.pdf\", 'total_pages': 14, 'page': 4, 'page_label': '5'}, page_content='recognize notations used to represent the\\nreciprocal functions [e.g., the reciprocal of \\nf(x) = sin x can be represented using csc x,\\n, or        , but not using f (x)o r  s i n x, \\nwhich represent the inverse function]\\n–1 –1\\n2. Connecting Graphs and Equations \\nof Trigonometric Functions\\nπ\\n6\\nπ\\n4\\nπ\\n3\\nπ\\n2\\nπ\\n3\\n1. Understanding and Applying \\nRadian Measure'),\n",
       " Document(metadata={'producer': 'macOS Version 15.3.2 (Build 24D81) Quartz PDFContext', 'creator': 'Preview', 'creationdate': \"D:20250322022618Z00'00'\", 'title': 'math1112currb-2', 'author': 'Yusuf Moola', 'moddate': \"D:20250322022618Z00'00'\", 'source': \"/Users/yusufmoola/Desktop/Code Demo's/GenAiHackathon/backend/Advanced-Functions.pdf\", 'total_pages': 14, 'page': 5, 'page_label': '6'}, page_content='90\\n2.4 determine the amplitude, period, and phase \\nshift of sinusoidal functions whose equations\\nare given in the form f(x) = a sin (k(x – d)) + c\\nor f(x) = acos(k(x – d)) + c, with angles\\nexpressed in radians\\n2.5 sketch graphs of y = a sin (k(x – d)) + c and \\ny = acos(k(x – d)) + c by applying trans-\\nformations to the graphs of f(x) = sin x and\\nf(x) = cos x with angles expressed in radians,\\nand state the period, amplitude, and phase\\nshift of the transformed functions\\nSample problem: Transform the graph of \\nf(x) = cos x to sketch g(x) = 3c o s( 2x) – 1, \\nand state the period, amplitude, and phase\\nshift of each function.\\n2.6 represent a sinusoidal function with an \\nequation, given its graph or its properties,\\nwith angles expressed in radians \\nSample problem: A sinusoidal function has\\nan amplitude of 2 units, a period of π, and a\\nmaximum at (0, 3). Represent the function\\nwith an equation in two different ways.\\n2.7 pose problems based on applications involv-'),\n",
       " Document(metadata={'producer': 'macOS Version 15.3.2 (Build 24D81) Quartz PDFContext', 'creator': 'Preview', 'creationdate': \"D:20250322022618Z00'00'\", 'title': 'math1112currb-2', 'author': 'Yusuf Moola', 'moddate': \"D:20250322022618Z00'00'\", 'source': \"/Users/yusufmoola/Desktop/Code Demo's/GenAiHackathon/backend/Advanced-Functions.pdf\", 'total_pages': 14, 'page': 5, 'page_label': '6'}, page_content='an amplitude of 2 units, a period of π, and a\\nmaximum at (0, 3). Represent the function\\nwith an equation in two different ways.\\n2.7 pose problems based on applications involv-\\ning a trigonometric function with domain\\nexpressed in radians (e.g., seasonal changes in\\ntemperature, heights of tides, hours of day-\\nlight, displacements for oscillating springs),\\nand solve these and other such problems by\\nusing a given graph or a graph generated\\nwith or without technology from a table of\\nvalues or from its equation \\nSample problem: The population size, P, \\nof owls (predators) in a certain region can \\nbe modelled by the function \\nP(t) = 1000 + 100 sin () , where t represents\\nthe time in months. The population size, p, \\nof mice (prey) in the same region is given by\\np(t) = 20 000 + 4000 cos () . Sketch the \\ngraphs of these functions, and pose and \\nsolve problems involving the relationships\\nbetween the two populations over time.   \\nBy the end of this course, students will:'),\n",
       " Document(metadata={'producer': 'macOS Version 15.3.2 (Build 24D81) Quartz PDFContext', 'creator': 'Preview', 'creationdate': \"D:20250322022618Z00'00'\", 'title': 'math1112currb-2', 'author': 'Yusuf Moola', 'moddate': \"D:20250322022618Z00'00'\", 'source': \"/Users/yusufmoola/Desktop/Code Demo's/GenAiHackathon/backend/Advanced-Functions.pdf\", 'total_pages': 14, 'page': 5, 'page_label': '6'}, page_content='graphs of these functions, and pose and \\nsolve problems involving the relationships\\nbetween the two populations over time.   \\nBy the end of this course, students will:\\n3.1 recognize equivalent trigonometric expressions\\n[e.g., by using the angles in a right triangle \\nto recognize that sin x and cos ( – x) are \\nequivalent; by using transformations to \\nrecognize that cos (x + ) and –sin x are \\nequivalent], and verify equivalence using\\ngraphing technology\\n3.2 explore the algebraic development of the \\ncompound angle formulas (e.g., verify the \\nformulas in numerical examples, using tech-\\nnology; follow a demonstration of the alge-\\nbraic development [student reproduction of\\nthe development of the general case is not\\nrequired]), and use the formulas to determine\\nexact values of trigonometric ratios [e.g., \\ndetermining the exact value of sin () by \\nfirst rewriting it in terms of special angles \\nas sin ( – )] \\n3.3 recognize that trigonometric identities are'),\n",
       " Document(metadata={'producer': 'macOS Version 15.3.2 (Build 24D81) Quartz PDFContext', 'creator': 'Preview', 'creationdate': \"D:20250322022618Z00'00'\", 'title': 'math1112currb-2', 'author': 'Yusuf Moola', 'moddate': \"D:20250322022618Z00'00'\", 'source': \"/Users/yusufmoola/Desktop/Code Demo's/GenAiHackathon/backend/Advanced-Functions.pdf\", 'total_pages': 14, 'page': 5, 'page_label': '6'}, page_content='exact values of trigonometric ratios [e.g., \\ndetermining the exact value of sin () by \\nfirst rewriting it in terms of special angles \\nas sin ( – )] \\n3.3 recognize that trigonometric identities are\\nequations that are true for every value in the\\ndomain (i.e., a counter-example can be used \\nto show that an equation is not an identity),\\nprove trigonometric identities through the\\napplication of reasoning skills, using a variety \\nof relationships (e.g., tan x = ; \\nsin x + cos x = 1; the reciprocal identities;\\nthe compound angle formulas), and verify\\nidentities using technology\\nSample problem: Use the compound angle\\nformulas to prove the double angle formulas.\\n3.4 solve linear and quadratic trigonometric equa-\\ntions, with and without graphing technology,\\nfor the domain of real values from 0 to 2 π,\\nand solve related problems \\nSample problem: Solve the following trigono-\\nmetric equations for 0 ≤ x ≤ 2π, and verify by\\ngraphing with technology: 2 sin x + 1 = 0;'),\n",
       " Document(metadata={'producer': 'macOS Version 15.3.2 (Build 24D81) Quartz PDFContext', 'creator': 'Preview', 'creationdate': \"D:20250322022618Z00'00'\", 'title': 'math1112currb-2', 'author': 'Yusuf Moola', 'moddate': \"D:20250322022618Z00'00'\", 'source': \"/Users/yusufmoola/Desktop/Code Demo's/GenAiHackathon/backend/Advanced-Functions.pdf\", 'total_pages': 14, 'page': 5, 'page_label': '6'}, page_content='and solve related problems \\nSample problem: Solve the following trigono-\\nmetric equations for 0 ≤ x ≤ 2π, and verify by\\ngraphing with technology: 2 sin x + 1 = 0;\\n2s i n x + sin x – 1 = 0; sin x = cos 2x; \\ncos 2x = .1\\n2\\n2\\n22\\nsin x\\ncos x\\nπ\\n4\\nπ\\n6\\nπ\\n12\\nπ\\n2\\nπ\\n2\\n3. Solving Trigonometric Equations\\nπt\\n12\\nπt\\n12\\nTHE ONTARIO CURRICULUM, GRADES 11 AND 12 | Mathematics Grade 12, University Preparation'),\n",
       " Document(metadata={'producer': 'macOS Version 15.3.2 (Build 24D81) Quartz PDFContext', 'creator': 'Preview', 'creationdate': \"D:20250322022618Z00'00'\", 'title': 'math1112currb-2', 'author': 'Yusuf Moola', 'moddate': \"D:20250322022618Z00'00'\", 'source': \"/Users/yusufmoola/Desktop/Code Demo's/GenAiHackathon/backend/Advanced-Functions.pdf\", 'total_pages': 14, 'page': 6, 'page_label': '7'}, page_content='C.  POL YNOMIAL AND RA TIONAL \\nFUNCTIONS\\nOVERALL EXPECTATIONS \\nBy the end of this course, students will:\\n1. identify and describe some key features of polynomial functions, and make connections between the\\nnumeric, graphical, and algebraic representations of polynomial functions;\\n2. identify and describe some key features of the graphs of rational functions, and represent rational \\nfunctions graphically;\\n3. solve problems involving polynomial and simple rational equations graphically and algebraically;\\n4. demonstrate an understanding of solving polynomial and simple rational inequalities.\\nSPECIFIC EXPECTATIONS \\nAdvanced Functions\\nMHF4U\\nPOL YNOMIAL AND RATIONAL FUNCTIONS\\n91\\nBy the end of this course, students will:\\n1.1 recognize a polynomial expression (i.e., a\\nseries of terms where each term is the product\\nof a constant and a power of x with a non-\\nnegative integral exponent, such as \\nx – 5x + 2x – 1); recognize the equation of \\na polynomial function, give reasons why it'),\n",
       " Document(metadata={'producer': 'macOS Version 15.3.2 (Build 24D81) Quartz PDFContext', 'creator': 'Preview', 'creationdate': \"D:20250322022618Z00'00'\", 'title': 'math1112currb-2', 'author': 'Yusuf Moola', 'moddate': \"D:20250322022618Z00'00'\", 'source': \"/Users/yusufmoola/Desktop/Code Demo's/GenAiHackathon/backend/Advanced-Functions.pdf\", 'total_pages': 14, 'page': 6, 'page_label': '7'}, page_content='of a constant and a power of x with a non-\\nnegative integral exponent, such as \\nx – 5x + 2x – 1); recognize the equation of \\na polynomial function, give reasons why it \\nis a function, and identify linear and quad-\\nratic functions as examples of polynomial \\nfunctions\\n1.2 compare, through investigation using graph-\\ning technology, the numeric, graphical, and\\nalgebraic representations of polynomial (i.e.,\\nlinear, quadratic, cubic, quartic) functions\\n(e.g., compare finite differences in tables of\\nvalues; investigate the effect of the degree of a\\npolynomial function on the shape of its graph\\nand the maximum number of x-intercepts;\\ninvestigate the effect of varying the sign of the\\nleading coefficient on the end behaviour of\\nthe function for very large positive or nega-\\ntive x-values)\\nSample problem: Investigate the maximum\\nnumber of x-intercepts for linear, quadratic,\\ncubic, and quartic functions using graphing\\ntechnology.\\n1.3 describe key features of the graphs of poly-'),\n",
       " Document(metadata={'producer': 'macOS Version 15.3.2 (Build 24D81) Quartz PDFContext', 'creator': 'Preview', 'creationdate': \"D:20250322022618Z00'00'\", 'title': 'math1112currb-2', 'author': 'Yusuf Moola', 'moddate': \"D:20250322022618Z00'00'\", 'source': \"/Users/yusufmoola/Desktop/Code Demo's/GenAiHackathon/backend/Advanced-Functions.pdf\", 'total_pages': 14, 'page': 6, 'page_label': '7'}, page_content='Sample problem: Investigate the maximum\\nnumber of x-intercepts for linear, quadratic,\\ncubic, and quartic functions using graphing\\ntechnology.\\n1.3 describe key features of the graphs of poly-\\nnomial functions (e.g., the domain and range,\\nthe shape of the graphs, the end behaviour of\\nthe functions for very large positive or nega-\\ntive x-values)\\nSample problem: Describe and compare the\\nkey features of the graphs of the functions\\nf(x) = x, f(x) = x , f(x) = x , f(x) = x + x ,\\nand f(x) = x + x.\\n1.4 distinguish polynomial functions from \\nsinusoidal and exponential functions [e.g., \\nf(x) = sin x, g(x) = 2] ,  a n d  c o m p a r e  a n d  \\ncontrast the graphs of various polynomial\\nfunctions with the graphs of other types of\\nfunctions\\n1.5 make connections, through investigation\\nusing graphing technology (e.g., dynamic\\ngeometry software), between a polynomial\\nfunction given in factored form [e.g., \\nf(x) = 2(x – 3)(x + 2)(x – 1)] and the \\nx-intercepts of its graph, and sketch the'),\n",
       " Document(metadata={'producer': 'macOS Version 15.3.2 (Build 24D81) Quartz PDFContext', 'creator': 'Preview', 'creationdate': \"D:20250322022618Z00'00'\", 'title': 'math1112currb-2', 'author': 'Yusuf Moola', 'moddate': \"D:20250322022618Z00'00'\", 'source': \"/Users/yusufmoola/Desktop/Code Demo's/GenAiHackathon/backend/Advanced-Functions.pdf\", 'total_pages': 14, 'page': 6, 'page_label': '7'}, page_content='geometry software), between a polynomial\\nfunction given in factored form [e.g., \\nf(x) = 2(x – 3)(x + 2)(x – 1)] and the \\nx-intercepts of its graph, and sketch the \\ngraph of a polynomial function given in \\nfactored form using its key features (e.g., \\nby determining intercepts and end beha-\\nviour; by locating positive and negative\\nregions using test values between and on\\neither side of the x-intercepts) \\nSample problem: Investigate, using graphing\\ntechnology, the x-intercepts and the shapes \\nof the graphs of polynomial functions with\\nx\\n3\\n233 2\\n3 2\\n1. Connecting Graphs and Equations \\nof Polynomial Functions'),\n",
       " Document(metadata={'producer': 'macOS Version 15.3.2 (Build 24D81) Quartz PDFContext', 'creator': 'Preview', 'creationdate': \"D:20250322022618Z00'00'\", 'title': 'math1112currb-2', 'author': 'Yusuf Moola', 'moddate': \"D:20250322022618Z00'00'\", 'source': \"/Users/yusufmoola/Desktop/Code Demo's/GenAiHackathon/backend/Advanced-Functions.pdf\", 'total_pages': 14, 'page': 7, 'page_label': '8'}, page_content='1\\nx – 42\\n1\\nx + n2\\n1\\nx + n\\nTHE ONTARIO CURRICULUM, GRADES 11 AND 12 | Mathematics\\n92\\none or more repeated factors, for example,\\nf(x) = (x – 2)(x – 3), f(x) = (x – 2)(x – 2)(x – 3),\\nf(x) = (x – 2)(x – 2)(x – 2)(x – 3), and \\nf(x) = (x + 2)(x + 2)(x – 2)(x – 2)(x – 3), \\nby considering whether the factor is \\nrepeated an even or an odd number of \\ntimes. Use your conclusions to sketch \\nf(x) = (x + 1)(x + 1)(x – 3)(x – 3), and verify\\nusing technology.\\n1.6 determine, through investigation using tech-\\nnology, the roles of the parameters a, k, d, and\\nc in functions of the form y = af (k(x – d)) + c,\\nand describe these roles in terms of transforma-\\ntions on the graphs of f(x) = x and f(x) = x\\n(i.e., vertical and horizontal translations;\\nreflections in the axes; vertical and horizontal\\nstretches and compressions to and from the \\nx- and y-axes)\\nSample problem: Investigate, using technol-\\nogy, the graph of f(x) = 2(x – d) + c for \\nvarious values of d and c, and describe'),\n",
       " Document(metadata={'producer': 'macOS Version 15.3.2 (Build 24D81) Quartz PDFContext', 'creator': 'Preview', 'creationdate': \"D:20250322022618Z00'00'\", 'title': 'math1112currb-2', 'author': 'Yusuf Moola', 'moddate': \"D:20250322022618Z00'00'\", 'source': \"/Users/yusufmoola/Desktop/Code Demo's/GenAiHackathon/backend/Advanced-Functions.pdf\", 'total_pages': 14, 'page': 7, 'page_label': '8'}, page_content='stretches and compressions to and from the \\nx- and y-axes)\\nSample problem: Investigate, using technol-\\nogy, the graph of f(x) = 2(x – d) + c for \\nvarious values of d and c, and describe \\nthe effects of changing d and c in terms of\\ntransformations.\\n1.7 determine an equation of a polynomial func-\\ntion that satisfies a given set of conditions (e.g.,\\ndegree of the polynomial, intercepts, points\\non the function), using methods appropriate\\nto the situation (e.g., using the x-intercepts of\\nthe function; using a trial-and-error process\\nwith a graphing calculator or graphing soft-\\nware; using finite differences), and recognize\\nthat there may be more than one polynomial\\nfunction that can satisfy a given set of condi-\\ntions (e.g., an infinite number of polynomial\\nfunctions satisfy the condition that they have\\nthree given x-intercepts)\\nSample problem: Determine an equation for \\na fifth-degree polynomial function that inter-\\nsects the x-axis at only 5, 1, and –5, and'),\n",
       " Document(metadata={'producer': 'macOS Version 15.3.2 (Build 24D81) Quartz PDFContext', 'creator': 'Preview', 'creationdate': \"D:20250322022618Z00'00'\", 'title': 'math1112currb-2', 'author': 'Yusuf Moola', 'moddate': \"D:20250322022618Z00'00'\", 'source': \"/Users/yusufmoola/Desktop/Code Demo's/GenAiHackathon/backend/Advanced-Functions.pdf\", 'total_pages': 14, 'page': 7, 'page_label': '8'}, page_content='three given x-intercepts)\\nSample problem: Determine an equation for \\na fifth-degree polynomial function that inter-\\nsects the x-axis at only 5, 1, and –5, and\\nsketch the graph of the function.\\n1.8 determine the equation of the family of poly-\\nnomial functions with a given set of zeros \\nand of the member of the family that passes\\nthrough another given point [e.g., a family \\nof polynomial functions of degree 3 with\\nzeros 5, –3, and –2 is defined by the equation\\nf(x) = k(x – 5)(x + 3)(x + 2), where k is a real\\nnumber, k ≠ 0; the member of the family \\nthat passes through (–1, 24) is \\nf(x) = –2(x – 5)(x + 3)(x + 2)]\\nSample problem: Investigate, using graphing\\ntechnology, and determine a polynomial\\nfunction that can be used to model the func-\\ntion f(x) = sin x over the interval 0 ≤ x ≤ 2π.\\n1.9 determine, through investigation, and compare\\nthe properties of even and odd polynomial\\nfunctions [e.g., symmetry about the y-axis \\nor the origin; the power of each term; the'),\n",
       " Document(metadata={'producer': 'macOS Version 15.3.2 (Build 24D81) Quartz PDFContext', 'creator': 'Preview', 'creationdate': \"D:20250322022618Z00'00'\", 'title': 'math1112currb-2', 'author': 'Yusuf Moola', 'moddate': \"D:20250322022618Z00'00'\", 'source': \"/Users/yusufmoola/Desktop/Code Demo's/GenAiHackathon/backend/Advanced-Functions.pdf\", 'total_pages': 14, 'page': 7, 'page_label': '8'}, page_content='1.9 determine, through investigation, and compare\\nthe properties of even and odd polynomial\\nfunctions [e.g., symmetry about the y-axis \\nor the origin; the power of each term; the\\nnumber of x-intercepts; f(x) = f(– x)o r  \\nf(– x) = – f(x)], and determine whether a given\\npolynomial function is even, odd, or neither\\nSample problem: Investigate numerically,\\ngraphically, and algebraically, with and with-\\nout technology, the conditions under which\\nan even function has an even number of \\nx-intercepts.\\nBy the end of this course, students will:\\n2.1 determine, through investigation with and\\nwithout technology, key features (i.e., vertical\\nand horizontal asymptotes, domain and\\nrange, intercepts, positive/ negative intervals,\\nincreasing/ decreasing intervals) of the graphs\\nof rational functions that are the reciprocals of\\nlinear and quadratic functions, and make con-\\nnections between the algebraic and graphical\\nrepresentations of these rational functions [e.g.,\\nmake connections between f(x) ='),\n",
       " Document(metadata={'producer': 'macOS Version 15.3.2 (Build 24D81) Quartz PDFContext', 'creator': 'Preview', 'creationdate': \"D:20250322022618Z00'00'\", 'title': 'math1112currb-2', 'author': 'Yusuf Moola', 'moddate': \"D:20250322022618Z00'00'\", 'source': \"/Users/yusufmoola/Desktop/Code Demo's/GenAiHackathon/backend/Advanced-Functions.pdf\", 'total_pages': 14, 'page': 7, 'page_label': '8'}, page_content='linear and quadratic functions, and make con-\\nnections between the algebraic and graphical\\nrepresentations of these rational functions [e.g.,\\nmake connections between f(x) =\\nand its graph by using graphing technology\\nand by reasoning that there are vertical\\nasymptotes at x = 2 and x = –2 and a hori-\\nzontal asymptote at y = 0 and that the func-\\ntion maintains the same sign as f(x) = x – 4] \\nSample problem: Investigate, with technology,\\nthe key features of the graphs of families of\\nrational functions of the form  \\nf(x) = and f(x) = ,\\nwhere n is an integer, and make connections\\nbetween the equations and key features of\\nthe graphs.\\n2.2 determine, through investigation with and\\nwithout technology, key features (i.e., vertical\\nand horizontal asymptotes, domain and\\nrange, intercepts, positive/ negative intervals,\\nincreasing/ decreasing intervals) of the graphs\\nof rational functions that have linear expres-\\nsions in the numerator and denominator\\n[e.g., f(x) = , h(x) = ], and'),\n",
       " Document(metadata={'producer': 'macOS Version 15.3.2 (Build 24D81) Quartz PDFContext', 'creator': 'Preview', 'creationdate': \"D:20250322022618Z00'00'\", 'title': 'math1112currb-2', 'author': 'Yusuf Moola', 'moddate': \"D:20250322022618Z00'00'\", 'source': \"/Users/yusufmoola/Desktop/Code Demo's/GenAiHackathon/backend/Advanced-Functions.pdf\", 'total_pages': 14, 'page': 7, 'page_label': '8'}, page_content='increasing/ decreasing intervals) of the graphs\\nof rational functions that have linear expres-\\nsions in the numerator and denominator\\n[e.g., f(x) = , h(x) = ], and \\nmake connections between the algebraic and\\ngraphical representations of these rational\\nfunctions\\n2x\\nx – 3\\nx – 2\\n3x + 4\\n2\\n2. Connecting Graphs and Equations \\nof Rational Functions\\n3\\n34\\nGrade 12, University Preparation'),\n",
       " Document(metadata={'producer': 'macOS Version 15.3.2 (Build 24D81) Quartz PDFContext', 'creator': 'Preview', 'creationdate': \"D:20250322022618Z00'00'\", 'title': 'math1112currb-2', 'author': 'Yusuf Moola', 'moddate': \"D:20250322022618Z00'00'\", 'source': \"/Users/yusufmoola/Desktop/Code Demo's/GenAiHackathon/backend/Advanced-Functions.pdf\", 'total_pages': 14, 'page': 8, 'page_label': '9'}, page_content='POL YNOMIAL AND RATIONAL FUNCTIONS Advanced Functions\\nMHF4U\\n93\\nSample problem: Investigate, using graphing\\ntechnology, key features of the graphs of the\\nfamily of rational functions of the form  \\nf(x) = for n = 1, 2, 4, and 8, and make \\nconnections between the equations and the\\nasymptotes.\\n2.3 sketch the graph of a simple rational function\\nusing its key features, given the algebraic rep-\\nresentation of the function\\nBy the end of this course, students will:\\n3.1 make connections, through investigation using\\ntechnology (e.g., computer algebra systems),\\nbetween the polynomial function f(x), the\\ndivisor x – a, the remainder from the division \\n, and f(a)t o  v e r i f y  t h e  r e m a i n d e r  t h e o r e m\\nand the factor theorem \\nSample problem: Divide \\nf(x) = x + 4x – x – 16x – 14 by x – a for \\nvarious integral values of a using a computer\\nalgebra system. Compare the remainder from\\neach division with f(a).\\n3.2 factor polynomial expressions in one variable,'),\n",
       " Document(metadata={'producer': 'macOS Version 15.3.2 (Build 24D81) Quartz PDFContext', 'creator': 'Preview', 'creationdate': \"D:20250322022618Z00'00'\", 'title': 'math1112currb-2', 'author': 'Yusuf Moola', 'moddate': \"D:20250322022618Z00'00'\", 'source': \"/Users/yusufmoola/Desktop/Code Demo's/GenAiHackathon/backend/Advanced-Functions.pdf\", 'total_pages': 14, 'page': 8, 'page_label': '9'}, page_content='various integral values of a using a computer\\nalgebra system. Compare the remainder from\\neach division with f(a).\\n3.2 factor polynomial expressions in one variable,\\nof degree no higher than four, by selecting\\nand applying strategies (i.e., common factor-\\ning, difference of squares, trinomial factoring,\\nfactoring by grouping, remainder theorem,\\nfactor theorem)\\nSample problem: Factor: x + 2x – x – 2; \\nx – 6x + 4x + 6x – 5.\\n3.3 determine, through investigation using tech-\\nnology (e.g., graphing calculator, computer\\nalgebra systems), the connection between the\\nreal roots of a polynomial equation and the \\nx-intercepts of the graph of the corresponding\\npolynomial function, and describe this con-\\nnection [e.g., the real roots of the equation \\nx – 13x + 36 = 0 are the x-intercepts of the\\ngraph of f(x) = x – 13x + 36]\\nSample problem: Describe the relationship\\nbetween the x-intercepts of the graphs of \\nlinear and quadratic functions and the real\\nroots of the corresponding equations.'),\n",
       " Document(metadata={'producer': 'macOS Version 15.3.2 (Build 24D81) Quartz PDFContext', 'creator': 'Preview', 'creationdate': \"D:20250322022618Z00'00'\", 'title': 'math1112currb-2', 'author': 'Yusuf Moola', 'moddate': \"D:20250322022618Z00'00'\", 'source': \"/Users/yusufmoola/Desktop/Code Demo's/GenAiHackathon/backend/Advanced-Functions.pdf\", 'total_pages': 14, 'page': 8, 'page_label': '9'}, page_content='graph of f(x) = x – 13x + 36]\\nSample problem: Describe the relationship\\nbetween the x-intercepts of the graphs of \\nlinear and quadratic functions and the real\\nroots of the corresponding equations.\\nInvestigate, using technology, whether this\\nrelationship exists for polynomial functions\\nof higher degree.\\n3.4 solve polynomial equations in one variable, \\nof degree no higher than four (e.g., \\n2x – 3x + 8x – 12 = 0), by selecting and\\napplying strategies (i.e., common factoring,\\ndifference of squares, trinomial factoring, \\nfactoring by grouping, remainder theorem,\\nfactor theorem), and verify solutions using\\ntechnology (e.g., using computer algebra \\nsystems to determine the roots; using graph-\\ning technology to determine the x-intercepts\\nof the graph of the corresponding polynomial\\nfunction)\\n3.5 determine, through investigation using tech-\\nnology (e.g., graphing calculator, computer\\nalgebra systems), the connection between \\nthe real roots of a rational equation and the'),\n",
       " Document(metadata={'producer': 'macOS Version 15.3.2 (Build 24D81) Quartz PDFContext', 'creator': 'Preview', 'creationdate': \"D:20250322022618Z00'00'\", 'title': 'math1112currb-2', 'author': 'Yusuf Moola', 'moddate': \"D:20250322022618Z00'00'\", 'source': \"/Users/yusufmoola/Desktop/Code Demo's/GenAiHackathon/backend/Advanced-Functions.pdf\", 'total_pages': 14, 'page': 8, 'page_label': '9'}, page_content='function)\\n3.5 determine, through investigation using tech-\\nnology (e.g., graphing calculator, computer\\nalgebra systems), the connection between \\nthe real roots of a rational equation and the \\nx-intercepts of the graph of the corresponding\\nrational function, and describe this connection\\n[e.g., the real root of the equation = 0 \\nis 2, which is the x-intercept of the function \\nf(x) = ; the equation = 0 has no\\nnot intersect the x-axis]\\n3.6 solve simple rational equations in one variable\\nalgebraically, and verify solutions using tech-\\nnology (e.g., using computer algebra systems\\nto determine the roots; using graphing tech-\\nnology to determine the x-intercepts of the\\ngraph of the corresponding rational function)\\n3.7 solve problems involving applications of\\npolynomial and simple rational functions and\\nequations [e.g., problems involving the factor\\ntheorem or remainder theorem, such as deter-\\nmining the values of k for which the function\\nf(x) = x + 6x + kx – 4 gives the same remain-'),\n",
       " Document(metadata={'producer': 'macOS Version 15.3.2 (Build 24D81) Quartz PDFContext', 'creator': 'Preview', 'creationdate': \"D:20250322022618Z00'00'\", 'title': 'math1112currb-2', 'author': 'Yusuf Moola', 'moddate': \"D:20250322022618Z00'00'\", 'source': \"/Users/yusufmoola/Desktop/Code Demo's/GenAiHackathon/backend/Advanced-Functions.pdf\", 'total_pages': 14, 'page': 8, 'page_label': '9'}, page_content='equations [e.g., problems involving the factor\\ntheorem or remainder theorem, such as deter-\\nmining the values of k for which the function\\nf(x) = x + 6x + kx – 4 gives the same remain-\\nder when divided by x – 1 and x + 2]\\nSample problem: Use long division to express\\nthe given function f(x) =               as the \\nsum of a polynomial function and a rational \\nfunction of the form (where A is a \\nconstant), make a conjecture about the rela-\\ntionship between the given function and the\\npolynomial function for very large positive\\nand negative x-values, and verify your con-\\njecture using graphing technology.\\nA\\nx – 1\\n32\\nx – 2\\nx – 3\\n1\\nx – 3\\nx – 2\\nx – 3\\n32\\n42\\n42\\n43 2\\n32\\n43 2\\nf(x)\\nx – a\\n3. Solving Polynomial and Rational\\nEquations\\n8x\\nnx + 1\\nreal roots, and the function f(x) = does 1\\nx – 3\\nx + 3x – 5\\nx – 1\\n2'),\n",
       " Document(metadata={'producer': 'macOS Version 15.3.2 (Build 24D81) Quartz PDFContext', 'creator': 'Preview', 'creationdate': \"D:20250322022618Z00'00'\", 'title': 'math1112currb-2', 'author': 'Yusuf Moola', 'moddate': \"D:20250322022618Z00'00'\", 'source': \"/Users/yusufmoola/Desktop/Code Demo's/GenAiHackathon/backend/Advanced-Functions.pdf\", 'total_pages': 14, 'page': 9, 'page_label': '10'}, page_content='By the end of this course, students will:\\n4.1 explain, for polynomial and simple rational\\nfunctions, the difference between the solution\\nto an equation in one variable and the solu-\\ntion to an inequality in one variable, and\\ndemonstrate that given solutions satisfy an\\ninequality (e.g., demonstrate numerically \\nand graphically that the solution to \\n< 5i s  x < –1o r  x > – );\\n4.2 determine solutions to polynomial inequali-\\nties in one variable [e.g., solve f(x) ≥ 0, where \\nf(x) = x – x + 3x – 9] and to simple rational\\ninequalities in one variable by graphing the\\ncorresponding functions, using graphing tech-\\nnology, and identifying intervals for which x\\nsatisfies the inequalities\\n4.3 solve linear inequalities and factorable poly-\\nnomial inequalities in one variable (e.g., \\nx + x > 0) in a variety of ways (e.g., by deter-\\nmining intervals using x-intercepts and evalu-\\nating the corresponding function for a single\\nx-value within each interval; by factoring the'),\n",
       " Document(metadata={'producer': 'macOS Version 15.3.2 (Build 24D81) Quartz PDFContext', 'creator': 'Preview', 'creationdate': \"D:20250322022618Z00'00'\", 'title': 'math1112currb-2', 'author': 'Yusuf Moola', 'moddate': \"D:20250322022618Z00'00'\", 'source': \"/Users/yusufmoola/Desktop/Code Demo's/GenAiHackathon/backend/Advanced-Functions.pdf\", 'total_pages': 14, 'page': 9, 'page_label': '10'}, page_content='x + x > 0) in a variety of ways (e.g., by deter-\\nmining intervals using x-intercepts and evalu-\\nating the corresponding function for a single\\nx-value within each interval; by factoring the\\npolynomial and identifying the conditions for\\nwhich the product satisfies the inequality),\\nand represent the solutions on a number line\\nor algebraically (e.g., for the inequality \\nx – 5x + 4 < 0, the solution represented \\nalgebraically is – 2 < x < –1 or 1 < x < 2)\\n1\\nx + 1\\n42\\n32\\n32\\n4\\n5\\n4. Solving Inequalities\\n94\\nTHE ONTARIO CURRICULUM, GRADES 11 AND 12 | Mathematics Grade 12, University Preparation'),\n",
       " Document(metadata={'producer': 'macOS Version 15.3.2 (Build 24D81) Quartz PDFContext', 'creator': 'Preview', 'creationdate': \"D:20250322022618Z00'00'\", 'title': 'math1112currb-2', 'author': 'Yusuf Moola', 'moddate': \"D:20250322022618Z00'00'\", 'source': \"/Users/yusufmoola/Desktop/Code Demo's/GenAiHackathon/backend/Advanced-Functions.pdf\", 'total_pages': 14, 'page': 10, 'page_label': '11'}, page_content='95 CHARACTERISTICS OF FUNCTIONS\\nBy the end of this course, students will:\\n1.1 gather, interpret, and describe information\\nabout real-world applications of rates of\\nchange, and recognize different ways of \\nrepresenting rates of change (e.g., in words,\\nnumerically, graphically, algebraically)\\n1.2 recognize that the rate of change for a func-\\ntion is a comparison of changes in the depen-\\ndent variable to changes in the independent\\nvariable, and distinguish situations in which\\nthe rate of change is zero, constant, or chang-\\ning by examining applications, including\\nthose arising from real-world situations (e.g.,\\nrate of change of the area of a circle as the\\nradius increases, inflation rates, the rising\\ntrend in graduation rates among Aboriginal\\nyouth, speed of a cruising aircraft, speed of a\\ncyclist climbing a hill, infection rates)\\nSample problem: The population of bacteria\\nin a sample is 250 000 at 1:00 p.m., 500 000 at\\n3:00 p.m., and 1 000 000 at 5:00 p.m. Compare'),\n",
       " Document(metadata={'producer': 'macOS Version 15.3.2 (Build 24D81) Quartz PDFContext', 'creator': 'Preview', 'creationdate': \"D:20250322022618Z00'00'\", 'title': 'math1112currb-2', 'author': 'Yusuf Moola', 'moddate': \"D:20250322022618Z00'00'\", 'source': \"/Users/yusufmoola/Desktop/Code Demo's/GenAiHackathon/backend/Advanced-Functions.pdf\", 'total_pages': 14, 'page': 10, 'page_label': '11'}, page_content='cyclist climbing a hill, infection rates)\\nSample problem: The population of bacteria\\nin a sample is 250 000 at 1:00 p.m., 500 000 at\\n3:00 p.m., and 1 000 000 at 5:00 p.m. Compare\\nmethods used to calculate the change in \\nthe population and the rate of change in the \\npopulation between 1:00 p.m. to 5:00 p.m. Is\\nthe rate of change constant? Explain your\\nreasoning.\\n1.3 sketch a graph that represents a relationship\\ninvolving rate of change, as described in\\nwords, and verify with technology (e.g.,\\nmotion sensor) when possible \\nSample problem: John rides his bicycle at a\\nconstant cruising speed along a flat road. He\\nthen decelerates (i.e., decreases speed) as he\\nclimbs a hill. At the top, he accelerates (i.e.,\\nincreases speed) on a flat road back to his\\nconstant cruising speed, and he then acceler-\\nates down a hill. Finally, he comes to another\\nhill and glides to a stop as he starts to climb.\\nSketch a graph of John’s speed versus time\\nand a graph of his distance travelled versus\\ntime.'),\n",
       " Document(metadata={'producer': 'macOS Version 15.3.2 (Build 24D81) Quartz PDFContext', 'creator': 'Preview', 'creationdate': \"D:20250322022618Z00'00'\", 'title': 'math1112currb-2', 'author': 'Yusuf Moola', 'moddate': \"D:20250322022618Z00'00'\", 'source': \"/Users/yusufmoola/Desktop/Code Demo's/GenAiHackathon/backend/Advanced-Functions.pdf\", 'total_pages': 14, 'page': 10, 'page_label': '11'}, page_content='ates down a hill. Finally, he comes to another\\nhill and glides to a stop as he starts to climb.\\nSketch a graph of John’s speed versus time\\nand a graph of his distance travelled versus\\ntime.\\n1.4 calculate and interpret average rates of change\\nof functions (e.g., linear, quadratic, exponential,\\nsinusoidal) arising from real-world applications\\n(e.g., in the natural, physical, and social sciences),\\ngiven various representations of the functions\\n(e.g., tables of values, graphs, equations)\\nSample problem: Fluorine-20 is a radioactive\\nsubstance that decays over time. At time 0,\\nthe mass of a sample of the substance is 20 g.\\nThe mass decreases to 10 g after 11 s, to 5 g\\nafter 22 s, and to 2.5 g after 33 s. Compare\\nthe average rate of change over the 33-s\\ninterval with the average rate of change over\\nconsecutive 11-s intervals.\\n1.5 recognize examples of instantaneous rates of\\nchange arising from real-world situations, and\\nmake connections between instantaneous'),\n",
       " Document(metadata={'producer': 'macOS Version 15.3.2 (Build 24D81) Quartz PDFContext', 'creator': 'Preview', 'creationdate': \"D:20250322022618Z00'00'\", 'title': 'math1112currb-2', 'author': 'Yusuf Moola', 'moddate': \"D:20250322022618Z00'00'\", 'source': \"/Users/yusufmoola/Desktop/Code Demo's/GenAiHackathon/backend/Advanced-Functions.pdf\", 'total_pages': 14, 'page': 10, 'page_label': '11'}, page_content='consecutive 11-s intervals.\\n1.5 recognize examples of instantaneous rates of\\nchange arising from real-world situations, and\\nmake connections between instantaneous\\nrates of change and average rates of change\\n(e.g., an average rate of change can be used to\\napproximate an instantaneous rate of change)\\n1. Understanding Rates of Change\\nGrade 12, University Preparation\\nD.  CHARACTERISTICS OF FUNCTIONS\\nOVERALL EXPECTATIONS \\nBy the end of this course, students will:\\n1. demonstrate an understanding of average and instantaneous rate of change, and determine, \\nnumerically and graphically, and interpret the average rate of change of a function over a given \\ninterval and the instantaneous rate of change of a function at a given point;\\n2. determine functions that result from the addition, subtraction, multiplication, and division of two \\nfunctions and from the composition of two functions, describe some properties of the resulting \\nfunctions, and solve related problems;'),\n",
       " Document(metadata={'producer': 'macOS Version 15.3.2 (Build 24D81) Quartz PDFContext', 'creator': 'Preview', 'creationdate': \"D:20250322022618Z00'00'\", 'title': 'math1112currb-2', 'author': 'Yusuf Moola', 'moddate': \"D:20250322022618Z00'00'\", 'source': \"/Users/yusufmoola/Desktop/Code Demo's/GenAiHackathon/backend/Advanced-Functions.pdf\", 'total_pages': 14, 'page': 10, 'page_label': '11'}, page_content='functions and from the composition of two functions, describe some properties of the resulting \\nfunctions, and solve related problems;\\n3. compare the characteristics of functions, and solve problems by modelling and reasoning with \\nfunctions, including problems with solutions that are not accessible by standard algebraic techniques.\\nSPECIFIC EXPECTATIONS \\nAdvanced Functions\\nMHF4U'),\n",
       " Document(metadata={'producer': 'macOS Version 15.3.2 (Build 24D81) Quartz PDFContext', 'creator': 'Preview', 'creationdate': \"D:20250322022618Z00'00'\", 'title': 'math1112currb-2', 'author': 'Yusuf Moola', 'moddate': \"D:20250322022618Z00'00'\", 'source': \"/Users/yusufmoola/Desktop/Code Demo's/GenAiHackathon/backend/Advanced-Functions.pdf\", 'total_pages': 14, 'page': 11, 'page_label': '12'}, page_content='Sample problem: In general, does the speedo-\\nmeter of a car measure instantaneous rate of\\nchange (i.e., instantaneous speed) or average\\nrate of change (i.e., average speed)? Describe\\nsituations in which the instantaneous speed\\nand the average speed would be the same.\\n1.6 determine, through investigation using various\\nrepresentations of relationships (e.g., tables of\\nvalues, graphs, equations), approximate instan-\\ntaneous rates of change arising from real-world\\napplications (e.g., in the natural, physical, and\\nsocial sciences) by using average rates of\\nchange and reducing the interval over which\\nthe average rate of change is determined\\nSample problem: The distance, d metres, \\ntravelled by a falling object in t seconds is\\nrepresented by d = 5t . When t = 3, the\\ninstantaneous speed of the object is 30 m/s.\\nCompare the average speeds over different\\ntime intervals starting at t = 3 with the\\ninstantaneous speed when t = 3. Use your\\nobservations to select an interval that can be'),\n",
       " Document(metadata={'producer': 'macOS Version 15.3.2 (Build 24D81) Quartz PDFContext', 'creator': 'Preview', 'creationdate': \"D:20250322022618Z00'00'\", 'title': 'math1112currb-2', 'author': 'Yusuf Moola', 'moddate': \"D:20250322022618Z00'00'\", 'source': \"/Users/yusufmoola/Desktop/Code Demo's/GenAiHackathon/backend/Advanced-Functions.pdf\", 'total_pages': 14, 'page': 11, 'page_label': '12'}, page_content='Compare the average speeds over different\\ntime intervals starting at t = 3 with the\\ninstantaneous speed when t = 3. Use your\\nobservations to select an interval that can be\\nused to provide a good approximation of the\\ninstantaneous speed at t = 3.\\n1.7 make connections, through investigation,\\nbetween the slope of a secant on the graph \\nof a function (e.g., quadratic, exponential,\\nsinusoidal) and the average rate of change \\nof the function over an interval, and between\\nthe slope of the tangent to a point on the\\ngraph of a function and the instantaneous \\nrate of change of the function at that point\\nSample problem: Use tangents to investigate\\nthe behaviour of a function when the instan-\\ntaneous rate of change is zero, positive, or\\nnegative.\\n1.8 determine, through investigation using a vari-\\nety of tools and strategies (e.g., using a table\\nof values to calculate slopes of secants or\\ngraphing secants and measuring their slopes\\nwith technology), the approximate slope of'),\n",
       " Document(metadata={'producer': 'macOS Version 15.3.2 (Build 24D81) Quartz PDFContext', 'creator': 'Preview', 'creationdate': \"D:20250322022618Z00'00'\", 'title': 'math1112currb-2', 'author': 'Yusuf Moola', 'moddate': \"D:20250322022618Z00'00'\", 'source': \"/Users/yusufmoola/Desktop/Code Demo's/GenAiHackathon/backend/Advanced-Functions.pdf\", 'total_pages': 14, 'page': 11, 'page_label': '12'}, page_content='ety of tools and strategies (e.g., using a table\\nof values to calculate slopes of secants or\\ngraphing secants and measuring their slopes\\nwith technology), the approximate slope of\\nthe tangent to a given point on the graph of \\na function (e.g., quadratic, exponential, sinu-\\nsoidal) by using the slopes of secants through\\nthe given point (e.g., investigating the slopes\\nof secants that approach the tangent at that\\npoint more and more closely), and make con-\\nnections to average and instantaneous rates \\nof change\\n1.9 solve problems involving average and instan-\\ntaneous rates of change, including problems\\narising from real-world applications, by using\\nnumerical and graphical methods (e.g., by\\nusing graphing technology to graph a tangent\\nand measure its slope)\\nSample problem: The height, h metres, of a\\nball above the ground can be modelled by\\nthe function h(t) = –5t + 20t, where t is \\nthe time in seconds. Use average speeds to\\ndetermine the approximate instantaneous\\nspeed at t = 3.'),\n",
       " Document(metadata={'producer': 'macOS Version 15.3.2 (Build 24D81) Quartz PDFContext', 'creator': 'Preview', 'creationdate': \"D:20250322022618Z00'00'\", 'title': 'math1112currb-2', 'author': 'Yusuf Moola', 'moddate': \"D:20250322022618Z00'00'\", 'source': \"/Users/yusufmoola/Desktop/Code Demo's/GenAiHackathon/backend/Advanced-Functions.pdf\", 'total_pages': 14, 'page': 11, 'page_label': '12'}, page_content='ball above the ground can be modelled by\\nthe function h(t) = –5t + 20t, where t is \\nthe time in seconds. Use average speeds to\\ndetermine the approximate instantaneous\\nspeed at t = 3.\\nBy the end of this course, students will:\\n2.1 determine, through investigation using graph-\\ning technology, key features (e.g., domain,\\nrange, maximum/ minimum points, number\\nof zeros) of the graphs of functions created by\\nadding, subtracting, multiplying, or dividing\\nfunctions [e.g., f(x) = 2s i n 4 x, g(x) = x + 2 , \\nh(x) = ], and describe factors that affect \\nthese properties\\nSample problem: Investigate the effect of \\nthe behaviours of f(x) = sin x, f(x) = sin 2x,\\nand f(x) = sin 4x on the shape of \\nf(x) = sin x + sin 2x + sin 4x.\\n2.2 recognize real-world applications of combi-\\nnations of functions (e.g., the motion of a\\ndamped pendulum can be represented by a\\nfunction that is the product of a trigonometric\\nfunction and an exponential function; the fre-\\nquencies of tones associated with the numbers'),\n",
       " Document(metadata={'producer': 'macOS Version 15.3.2 (Build 24D81) Quartz PDFContext', 'creator': 'Preview', 'creationdate': \"D:20250322022618Z00'00'\", 'title': 'math1112currb-2', 'author': 'Yusuf Moola', 'moddate': \"D:20250322022618Z00'00'\", 'source': \"/Users/yusufmoola/Desktop/Code Demo's/GenAiHackathon/backend/Advanced-Functions.pdf\", 'total_pages': 14, 'page': 11, 'page_label': '12'}, page_content='damped pendulum can be represented by a\\nfunction that is the product of a trigonometric\\nfunction and an exponential function; the fre-\\nquencies of tones associated with the numbers\\non a telephone involve the addition of two\\ntrigonometric functions), and solve related\\nproblems graphically \\nSample problem: The rate at which a conta-\\nminant leaves a storm sewer and enters a\\nlake depends on two factors: the concentra-\\ntion of the contaminant in the water from the\\nsewer and the rate at which the water leaves\\nthe sewer. Both of these factors vary with\\ntime. The concentration of the contaminant,\\nin kilograms per cubic metre of water, is\\ngiven by c(t) = t , where t is in seconds. The\\nrate at which water leaves the sewer, in cubic \\nmetres per second, is given by w(t) =        . \\nDetermine the time at which the contaminant\\nleaves the sewer and enters the lake at the\\nmaximum rate.\\n2\\nsin x\\ncos x\\n–x 2 x\\n2. Combining Functions\\n2\\n2\\nTHE ONTARIO CURRICULUM, GRADES 11 AND 12 | Mathematics\\n96'),\n",
       " Document(metadata={'producer': 'macOS Version 15.3.2 (Build 24D81) Quartz PDFContext', 'creator': 'Preview', 'creationdate': \"D:20250322022618Z00'00'\", 'title': 'math1112currb-2', 'author': 'Yusuf Moola', 'moddate': \"D:20250322022618Z00'00'\", 'source': \"/Users/yusufmoola/Desktop/Code Demo's/GenAiHackathon/backend/Advanced-Functions.pdf\", 'total_pages': 14, 'page': 11, 'page_label': '12'}, page_content='leaves the sewer and enters the lake at the\\nmaximum rate.\\n2\\nsin x\\ncos x\\n–x 2 x\\n2. Combining Functions\\n2\\n2\\nTHE ONTARIO CURRICULUM, GRADES 11 AND 12 | Mathematics\\n96\\nGrade 12, University Preparation\\n1\\nt + 104'),\n",
       " Document(metadata={'producer': 'macOS Version 15.3.2 (Build 24D81) Quartz PDFContext', 'creator': 'Preview', 'creationdate': \"D:20250322022618Z00'00'\", 'title': 'math1112currb-2', 'author': 'Yusuf Moola', 'moddate': \"D:20250322022618Z00'00'\", 'source': \"/Users/yusufmoola/Desktop/Code Demo's/GenAiHackathon/backend/Advanced-Functions.pdf\", 'total_pages': 14, 'page': 12, 'page_label': '13'}, page_content='2.3 determine, through investigation, and explain\\nsome properties (i.e., odd, even, or neither;\\nincreasing/ decreasing behaviours) of functions\\nformed by adding, subtracting, multiplying,\\nand dividing general functions [e.g., \\nf(x) + g(x), f(x)g(x)] \\nSample problem: Investigate algebraically,\\nand verify numerically and graphically,\\nwhether the product of two functions is even\\nor odd if the two functions are both even or\\nboth odd, or if one function is even and the\\nother is odd.\\n2.4 determine the composition of two functions\\n[i.e., f(g(x))] numerically (i.e., by using a table\\nof values) and graphically, with technology,\\nfor functions represented in a variety of ways\\n(e.g., function machines, graphs, equations),\\nand interpret the composition of two func-\\ntions in real-world applications\\nSample problem: For a car travelling at a con-\\nstant speed, the distance driven, d kilometres,\\nis represented by d(t) = 80t, where t is the\\ntime in hours. The cost of gasoline, in dollars,'),\n",
       " Document(metadata={'producer': 'macOS Version 15.3.2 (Build 24D81) Quartz PDFContext', 'creator': 'Preview', 'creationdate': \"D:20250322022618Z00'00'\", 'title': 'math1112currb-2', 'author': 'Yusuf Moola', 'moddate': \"D:20250322022618Z00'00'\", 'source': \"/Users/yusufmoola/Desktop/Code Demo's/GenAiHackathon/backend/Advanced-Functions.pdf\", 'total_pages': 14, 'page': 12, 'page_label': '13'}, page_content='Sample problem: For a car travelling at a con-\\nstant speed, the distance driven, d kilometres,\\nis represented by d(t) = 80t, where t is the\\ntime in hours. The cost of gasoline, in dollars,\\nfor the drive is represented by C(d) = 0.09d.\\nDetermine numerically and interpret C(d(5)),\\nand describe the relationship represented by\\nC(d(t)).\\n2.5 determine algebraically the composition of\\ntwo functions [i.e., f(g(x))], verify that f(g(x))\\nis not always equal to g( f(x)) [e.g., by deter-\\nmining f(g(x)) and g( f(x)), given f(x) = x + 1\\nand g(x) = 2x], and state the domain [i.e., by\\ndefining f(g(x)) for those x-values for which\\ng(x)i s  d e f i n e d  a n d  f o r  w h i c h  i t  i s  i n c l u d e d  i n\\nthe domain of f(x)] and the range of the com-\\nposition of two functions\\nSample problem: Determine f(g(x)) and g( f(x))\\ngiven f(x) = cos x and g(x) = 2x + 1, state the\\ndomain and range of f(g(x)) and g( f(x)), com-\\npare f(g(x)) with g( f(x)) algebraically, and'),\n",
       " Document(metadata={'producer': 'macOS Version 15.3.2 (Build 24D81) Quartz PDFContext', 'creator': 'Preview', 'creationdate': \"D:20250322022618Z00'00'\", 'title': 'math1112currb-2', 'author': 'Yusuf Moola', 'moddate': \"D:20250322022618Z00'00'\", 'source': \"/Users/yusufmoola/Desktop/Code Demo's/GenAiHackathon/backend/Advanced-Functions.pdf\", 'total_pages': 14, 'page': 12, 'page_label': '13'}, page_content='Sample problem: Determine f(g(x)) and g( f(x))\\ngiven f(x) = cos x and g(x) = 2x + 1, state the\\ndomain and range of f(g(x)) and g( f(x)), com-\\npare f(g(x)) with g( f(x)) algebraically, and\\nverify numerically and graphically with \\ntechnology.\\n2.6 solve problems involving the composition of\\ntwo functions, including problems arising\\nfrom real-world applications\\nSample problem: The speed of a car, v kilo-\\nmetres per hour, at a time of t hours is repre-\\nsented by v(t) = 40 + 3t + t . The rate of \\ngasoline consumption of the car, c litres per\\nkilometre, at a speed of v kilometres per hour \\nis represented by c(v) = ( – 0.1) + 0.15. \\nDetermine algebraically c(v(t)), the rate of\\ngasoline consumption as a function of time.\\nDetermine, using technology, the time when\\nthe car is running most economically during\\na four-hour trip.\\n2.7 demonstrate, by giving examples for func-\\ntions represented in a variety of ways (e.g.,\\nfunction machines, graphs, equations), the'),\n",
       " Document(metadata={'producer': 'macOS Version 15.3.2 (Build 24D81) Quartz PDFContext', 'creator': 'Preview', 'creationdate': \"D:20250322022618Z00'00'\", 'title': 'math1112currb-2', 'author': 'Yusuf Moola', 'moddate': \"D:20250322022618Z00'00'\", 'source': \"/Users/yusufmoola/Desktop/Code Demo's/GenAiHackathon/backend/Advanced-Functions.pdf\", 'total_pages': 14, 'page': 12, 'page_label': '13'}, page_content='the car is running most economically during\\na four-hour trip.\\n2.7 demonstrate, by giving examples for func-\\ntions represented in a variety of ways (e.g.,\\nfunction machines, graphs, equations), the\\nproperty that the composition of a function\\nand its inverse function maps a number onto\\nitself [i.e., f ( f(x)) = x and f( f (x)) = x\\ndemonstrate that the inverse function is the\\nreverse process of the original function and\\nthat it undoes what the function does] \\n2.8 make connections, through investigation\\nusing technology, between transformations\\n(i.e., vertical and horizontal translations;\\nreflections in the axes; vertical and horizontal\\nstretches and compressions to and from the \\nx- and y-axes) of simple functions f(x)[ e . g . ,\\nf(x) = x + 20, f(x) = sin x, f(x) = log x] and \\nthe composition of these functions with a \\nlinear function of the form g(x) = A(x + B)\\nSample problem: Compare the graph of \\nf(x) = x with the graphs of f(g(x)) and\\ng( f(x)), where g(x) = 2(x – d), for various'),\n",
       " Document(metadata={'producer': 'macOS Version 15.3.2 (Build 24D81) Quartz PDFContext', 'creator': 'Preview', 'creationdate': \"D:20250322022618Z00'00'\", 'title': 'math1112currb-2', 'author': 'Yusuf Moola', 'moddate': \"D:20250322022618Z00'00'\", 'source': \"/Users/yusufmoola/Desktop/Code Demo's/GenAiHackathon/backend/Advanced-Functions.pdf\", 'total_pages': 14, 'page': 12, 'page_label': '13'}, page_content='linear function of the form g(x) = A(x + B)\\nSample problem: Compare the graph of \\nf(x) = x with the graphs of f(g(x)) and\\ng( f(x)), where g(x) = 2(x – d), for various \\nvalues of d. Describe the effects of d in \\nterms of transformations of f(x).\\nBy the end of this course, students will:\\n3.1 compare, through investigation using a vari-\\nety of tools and strategies (e.g., graphing with\\ntechnology; comparing algebraic representa-\\ntions; comparing finite differences in tables of\\nvalues) the characteristics (e.g., key features of\\nthe graphs, forms of the equations) of various\\nfunctions (i.e., polynomial, rational, trigono-\\nmetric, exponential, logarithmic)\\n3.2 solve graphically and numerically equations\\nand inequalities whose solutions are not\\naccessible by standard algebraic techniques\\nSample problem: Solve: 2x < 2 ; cos x = x,\\nwith x in radians.\\n3.3 solve problems, using a variety of tools and\\nstrategies, including problems arising from\\nreal-world applications, by reasoning with'),\n",
       " Document(metadata={'producer': 'macOS Version 15.3.2 (Build 24D81) Quartz PDFContext', 'creator': 'Preview', 'creationdate': \"D:20250322022618Z00'00'\", 'title': 'math1112currb-2', 'author': 'Yusuf Moola', 'moddate': \"D:20250322022618Z00'00'\", 'source': \"/Users/yusufmoola/Desktop/Code Demo's/GenAiHackathon/backend/Advanced-Functions.pdf\", 'total_pages': 14, 'page': 12, 'page_label': '13'}, page_content='Sample problem: Solve: 2x < 2 ; cos x = x,\\nwith x in radians.\\n3.3 solve problems, using a variety of tools and\\nstrategies, including problems arising from\\nreal-world applications, by reasoning with\\nfunctions and by applying concepts and \\nprocedures involving functions (e.g., by \\n2 x\\n3. Using Function Models to Solve\\nProblems\\n2\\n3\\n–1 –1\\nv\\n500\\n2\\n2\\n97 Advanced Functions\\nMHF4U\\nCHARACTERISTICS OF FUNCTIONS'),\n",
       " Document(metadata={'producer': 'macOS Version 15.3.2 (Build 24D81) Quartz PDFContext', 'creator': 'Preview', 'creationdate': \"D:20250322022618Z00'00'\", 'title': 'math1112currb-2', 'author': 'Yusuf Moola', 'moddate': \"D:20250322022618Z00'00'\", 'source': \"/Users/yusufmoola/Desktop/Code Demo's/GenAiHackathon/backend/Advanced-Functions.pdf\", 'total_pages': 14, 'page': 13, 'page_label': '14'}, page_content='constructing a function model from data,\\nusing the model to determine mathematical\\nresults, and interpreting and communicating\\nthe results within the context of the problem) \\nSample problem: The pressure of a car tire\\nwith a slow leak is given in the following\\ntable of values:\\nTime, t (min) Pressure, P (kPa)\\n04 0 0\\n53 3 5\\n10 295\\n15 255\\n20 225\\n25 195\\n30 170\\nUse technology to investigate linear, quad-\\nratic, and exponential models for the relation-\\nship of the tire pressure and time, and describe\\nhow well each model fits the data. Use each\\nmodel to predict the pressure after 60 min.\\nWhich model gives the most realistic\\nanswer?\\n98\\nTHE ONTARIO CURRICULUM, GRADES 11 AND 12 | Mathematics Grade 12, University Preparation')]"
      ]
     },
     "execution_count": 186,
     "metadata": {},
     "output_type": "execute_result"
    }
   ],
   "source": [
    "from langchain.text_splitter import RecursiveCharacterTextSplitter\n",
    "text_splitter=RecursiveCharacterTextSplitter(chunk_size=1000,chunk_overlap=200)\n",
    "documents=text_splitter.split_documents(docs)\n",
    "documents"
   ]
  },
  {
   "cell_type": "code",
   "execution_count": 187,
   "metadata": {},
   "outputs": [],
   "source": [
    "## Vector Embedding And Vector Store\n",
    "from langchain_community.vectorstores import Chroma\n",
    "embeddings = OllamaEmbeddings(model = 'nomic-embed-text:latest')\n",
    "db = Chroma.from_documents(documents,embeddings)"
   ]
  },
  {
   "cell_type": "code",
   "execution_count": 188,
   "metadata": {},
   "outputs": [],
   "source": [
    "from langchain_core.prompts import ChatPromptTemplate\n",
    "from langchain.chains import create_retrieval_chain\n",
    "from langchain.chains.combine_documents import create_stuff_documents_chain\n",
    "retriever  =  db.as_retriever()"
   ]
  },
  {
   "cell_type": "markdown",
   "metadata": {},
   "source": [
    "# Strengths RAG"
   ]
  },
  {
   "cell_type": "code",
   "execution_count": 189,
   "metadata": {},
   "outputs": [],
   "source": [
    "# Load the llm \n",
    "llm = OllamaLLM(model=\"gemma\", temperature=0.4)\n",
    "\n",
    "# Define prompt template\n",
    "template = \"\"\"\n",
    "You are an assistant for question-answering tasks.\n",
    "Use the provided context only to answer the following question:\n",
    "\n",
    "<context>\n",
    "{context}\n",
    "</context>\n",
    "\n",
    "Question: {input}\n",
    "\n",
    "Here are the students quiz results summary that you can use to answer the question:\n",
    "{quiz_res}\n",
    "\n",
    "\n",
    "\n",
    "\"\"\"\n",
    "\n",
    "# Create a prompt template\n",
    "prompt = ChatPromptTemplate.from_template(template)\n",
    "\n",
    "# Create a chain \n",
    "doc_chain = create_stuff_documents_chain(llm, prompt)\n",
    "chain = create_retrieval_chain(retriever, doc_chain)"
   ]
  },
  {
   "cell_type": "code",
   "execution_count": 200,
   "metadata": {},
   "outputs": [],
   "source": [
    "# User query \n",
    "response = chain.invoke({\"input\": \"Give this student a detailed summary on all the things they did well in the quiz. Use the provided context to analyze what topics from the curriculum they did well in.\", \"quiz_res\": res_strength})\n",
    "\n",
    "# Get the Answer only\n",
    "final_strength = response['answer']"
   ]
  },
  {
   "cell_type": "code",
   "execution_count": 201,
   "metadata": {},
   "outputs": [
    {
     "name": "stdout",
     "output_type": "stream",
     "text": [
      "The student demonstrated proficiency in several key areas covered in the curriculum:\n",
      "\n",
      "**Mathematical Skills:**\n",
      "\n",
      "* **Problem-solving:** The student tackled challenging questions involving average rate of change and function composition, showcasing their ability to apply mathematical concepts to solve complex problems.\n",
      "* **Reasoning and Proving:** The student demonstrated proficiency in constructing mathematical arguments and assessing the reasonableness of results.\n",
      "* **Representing Mathematical Concepts:** The student displayed an understanding of representing mathematical concepts in various forms, including words, numbers, graphs, and algebraically.\n",
      "\n",
      "**Specific Topics:**\n",
      "\n",
      "* **Exponential Equations:** Mastery of exponential equations was evident in their ability to solve related problems.\n",
      "* **Radian Measure:** Understanding of radians was demonstrated through their accurate application in various contexts.\n",
      "* **Trigonometric Identities:** The student's ability to utilize trigonometric identities effectively was evident in their ability to solve related problems.\n",
      "* **Polynomial Roots:** Proficiency in finding polynomial roots was showcased in their ability to solve related problems.\n",
      "* **Average Rate of Change:** The student demonstrated a clear grasp of the concept and its application in solving problems.\n",
      "* **Function Transformations:** The student showed an understanding of function transformations through their ability to apply them in various contexts.\n",
      "* **Function Composition:** The student's ability to compose functions effectively was evident in their successful solution of related problems.\n"
     ]
    }
   ],
   "source": [
    "print(final_strength)"
   ]
  },
  {
   "cell_type": "markdown",
   "metadata": {},
   "source": [
    "## Weakness"
   ]
  },
  {
   "cell_type": "code",
   "execution_count": 192,
   "metadata": {},
   "outputs": [],
   "source": [
    "# Load the llm \n",
    "llm = OllamaLLM(model=\"gemma\", temperature=0.4)\n",
    "\n",
    "# Define prompt template\n",
    "template = \"\"\"\n",
    "You are an assistant for question-answering tasks.\n",
    "Use the provided context only to answer the following question:\n",
    "\n",
    "<context>\n",
    "{context}\n",
    "</context>\n",
    "\n",
    "Question: {input}\n",
    "\n",
    "Here are the students quiz results summary that you can use to answer the question:\n",
    "{quiz_res}\n",
    "\n",
    "\n",
    "\n",
    "\"\"\"\n",
    "\n",
    "# Create a prompt template\n",
    "prompt = ChatPromptTemplate.from_template(template)\n",
    "\n",
    "# Create a chain \n",
    "doc_chain = create_stuff_documents_chain(llm, prompt)\n",
    "chain = create_retrieval_chain(retriever, doc_chain)"
   ]
  },
  {
   "cell_type": "code",
   "execution_count": 193,
   "metadata": {},
   "outputs": [],
   "source": [
    "# User query \n",
    "response = chain.invoke({\"input\": \"Give this student a detailed learning path that strategises ways to improve their performance.\", \"quiz_res\": res})\n",
    "\n",
    "# Get the Answer only\n",
    "final = response['answer']"
   ]
  },
  {
   "cell_type": "code",
   "execution_count": 194,
   "metadata": {},
   "outputs": [
    {
     "name": "stdout",
     "output_type": "stream",
     "text": [
      "## Learning Path for Improving Student Performance\n",
      "\n",
      "**Phase 1: Review and Reinforcement**\n",
      "\n",
      "* Acknowledge the student's strengths in exponential equations, radians, trigonometric identities, polynomial roots, and function transformations.\n",
      "* Provide targeted practice problems for the medium-difficulty questions on trigonometric identities and polynomial roots.\n",
      "* Offer additional explanations and examples for the hard-difficulty questions on average rate of change and function composition.\n",
      "\n",
      "**Phase 2: Targeted Intervention**\n",
      "\n",
      "* **Average rate of change:**\n",
      "    * Introduce the concept of derivatives and their connection to average rate of change.\n",
      "    * Provide visual representations like graphs and tangent lines to understand the concept.\n",
      "    * Practice applying derivative concepts to solve related problems.\n",
      "\n",
      "* **Function composition:**\n",
      "    * Review the concept of function composition and its properties.\n",
      "    * Introduce advanced function composition techniques like inverse functions and complex functions.\n",
      "    * Provide opportunities for applying composition concepts to real-world problems.\n",
      "\n",
      "**Phase 3: Enrichment and Extension**\n",
      "\n",
      "* Encourage the student to explore more challenging mathematical concepts like calculus, linear algebra, or advanced trigonometry.\n",
      "* Recommend relevant online resources like interactive tutorials, problem-solving challenges, and online communities for further learning.\n",
      "* Suggest engaging applications of mathematics in real-world careers or hobbies.\n",
      "\n",
      "**Additional Strategies:**\n",
      "\n",
      "* Provide regular feedback and personalized assessments to track progress.\n",
      "* Encourage the student to engage in collaborative learning activities with peers or tutors.\n",
      "* Offer differentiated learning materials and resources tailored to their learning preferences and pace.\n",
      "\n",
      "**Continuous Monitoring:**\n",
      "\n",
      "* Track the student's performance on subsequent quizzes and assignments to assess the effectiveness of the learning path.\n",
      "* Make necessary adjustments to the learning path based on ongoing assessments and student feedback.\n",
      "\n",
      "**Possible Resources:**\n",
      "\n",
      "* Online tutorials and interactive simulations\n",
      "* Textbook resources and problem-solving books\n",
      "* Online communities of mathematicians and learners\n",
      "* Tutoring services or peer study groups\n"
     ]
    }
   ],
   "source": [
    "print(final)"
   ]
  },
  {
   "cell_type": "markdown",
   "metadata": {},
   "source": [
    "# Translation"
   ]
  },
  {
   "cell_type": "code",
   "execution_count": 203,
   "metadata": {},
   "outputs": [],
   "source": [
    "llm_lang = OllamaLLM(model = \"stablelm2\", temperature= 0.2)\n",
    "\n",
    "# Define prompt template\n",
    "template = \"\"\"\n",
    "You are an assistant for translating from English to **Mandarin.**\n",
    "\n",
    "You are taking in a student detailed learning path but returning it in **Mandarin.**\n",
    "\n",
    "\n",
    "Here is the student detailed learning path:\n",
    "{}\n",
    "\n",
    "\n",
    "## Output Structure:\n",
    "- Make sure to keep the same format as the input.\n",
    "- Only display output in **Mandarin**\n",
    "\n",
    "\"\"\""
   ]
  },
  {
   "cell_type": "code",
   "execution_count": 204,
   "metadata": {},
   "outputs": [
    {
     "name": "stdout",
     "output_type": "stream",
     "text": [
      "学生详细的学习路径：\n",
      "学生表现了几个关键方面的优势：\n",
      "\n",
      "**数学能力：**\n",
      "\n",
      "* **解决复杂问题：** 学生在许多与平均速度的问题中展示了自用数学概念来解决复杂问题。\n",
      "* **证明和推导：** 学生具有良好的构建数学命名式和评估结果的能力。他们可以将数学概念应用于解决复杂问题。\n",
      "* **表示数学概念：** 学生明确了数学概念在不同形式中的理解，并且能够将其转换为字面、数字、图形和代数形式。例如，他们可以用“字”表示数学概念，还可以用“方程片段”的形式表示。\n",
      "* **导数：** 学生明确地理解了对数学问题的关注点，并能够在不同背景下有效地应用这些知识。例如，在经典的代数中，他们可以准确地应用导数。\n",
      "* **古振定式：** 学生了解到古振定式是如何在各种情况下使用的，并能够有效地解决相关问题。例如，在经典的代数中，他们可以准确地应用古振定式。\n",
      "* **导数公式：** 学生了解到导数公式是如何在各种情况下使用的，并能够有效地解决相关问题。例如，在经典的代数中，他们可以准确地应用导数公式。\n",
      "* **变换函数：** 学生了解到变换函数是如何在各种情况下使用的，并能够有效地解决相关问题。例如，在经典的代数中，他们可以准确地应用变换函数。\n",
      "* **函数组合：** 存储学生在不同场景中展示了自己的理解和使用过程。例如，他们可以通过将两个或多个函数组成为一个新的函数来解决问题。\n",
      "* **函数转换：** 学生了解到函数转换是如何在各种情况下使用的，并能够有效地解决相关问题。例如，在经典的代数中，他们可以准确地应用函数转换。\n",
      "\n",
      "## 输出格式：\n",
      "- 保持输入格式。\n",
      "- 输出内容仅在**Mandarin**语言中显示。\n"
     ]
    }
   ],
   "source": [
    "prompt_lang_strength = template.format(final_strength)\n",
    "\n",
    "res_lang_strength = llm_lang.invoke(prompt_lang_strength)\n",
    "print(res_lang_strength)"
   ]
  },
  {
   "cell_type": "code",
   "execution_count": 205,
   "metadata": {},
   "outputs": [
    {
     "name": "stdout",
     "output_type": "stream",
     "text": [
      "以下是学生详细的学习路径的中文版本：\n",
      "### 学习路径优化：提升学生表现\n",
      "\n",
      "**阶段1：审讯和重复性教学**\n",
      "\n",
      "* 常识了解学生在古法方面的优势，例如古法、变换、线性代数、多项式根等。\n",
      "* 提供针对中度问题的目标题材料，如三角函数和多项式根。同时，提供高度问题的例子，如平均速度和功能复分。\n",
      "* 为难度较大的问题，例如线性变换、彩病和复数函数，提供解决相关问题的技巧，并给学生进行实际应用。\n",
      "\n",
      "**阶段2..\n",
      "...\n",
      "### 学习路径优化：提升学生表现\n",
      "\n",
      "* **平均速度（Average rate of change）：\n",
      "     * 推引代数和其与平均速度的关系。同时，为图形和直线的视觉表示法进行了介绍。\n",
      "     * 为难度较高的问题提供应用代数的实际应用，如解决相关问题的技巧。\n",
      "     \n",
      "* **函数组成（Function composition）：\n",
      "     * 推引函数组成的概念和其属性。同时，介绍更高级的函数组成技巧，如反函数和复数函数。\n",
      "     * 提供实际问题中使用函数组成的工具，以便在现实生活中应用数学思考。\n",
      "\n",
      "**阶段3：扩展和增强**\n",
      "\n",
      "* 许多学生兴趣更为挑战的数学概念，如几何、线性代数或高度 trigonometry。\n",
      "* 从中提荐相关实际问题，例如计算干系率和函数复分。同时，建议在线资源，包括教程、挑战题解决工具以及在线社区，为学习进展提供支持。\n",
      "* 从中推荐实际的数学在现实生活中的应用。\n",
      "\n",
      "**额外策略：**\n",
      "\n",
      "* 帮助学生跟踪他们的学术进展，以便追踪其学习路径的效果。\n",
      "* 许多学生兴趣更强，那么他们可以与同学或教师进行共享学习活动。\n",
      "* 提供针对学生的学习风格和速度的不同化妍杂料和资源。\n",
      "* 从中提供适当的学习工具和资源，根据学生的进展进行调整。\n",
      "\n",
      "**持续监视：**\n",
      "\n",
      "* 在下一个测试题和assignment中追踪学生的学习路径的效果。\n",
      "* 为了检查其学习路径的有效性，必...\n",
      "### 学习路径优化：提升学生表现\n",
      "\n",
      "**阶段1：审讯和重复性教学**\n",
      "\n",
      "* 常识了解学生在古法方面的优势，例如古法、变换、线性代数、多项式根等。\n",
      "* 提供针对中度问题的目标题材料，如三角函数和多项式根。同时，提供高度问题的例子，如平均速度和功能复分。\n",
      "* 为难度较大的问题，例如线性变换、彩病和复数函数，提供解决相关问题的技巧，并给学生进行实际应用。\n",
      "\n",
      "**阶段2：目标教学**\n",
      "\n",
      "* **平均速度（Average rate of change）：\n",
      "     * 推引代数和其与平均速度的关系。同时，为图形和直线的视觉表示法进行了介绍。\n",
      "     * 为难度较大的问题提供应用代数的实际应用，如解决相关问题的技巧。\n",
      "     \n",
      "* **函数组成（Function composition）：\n",
      "     * 推引函数组成的概念和其属性。同时，介绍更高级的函数组成技巧，如反函数和复数函数。\n",
      "     * 提供实际问题中使用函数组成的工具，以便在现实生活中应用数学思考。\n",
      "\n",
      "**阶段3：扩展和增强**\n",
      "\n",
      "* 许多学生兴趣更为挑战的数学概念，如几何、线性代数或高度 trigonometry。\n",
      "* 从中提荐相关实际问题，例如计算干系率和函数复分。同时，建议在线资源，包括教程、挑战题解决工具以及在线社区，为学习进展提供支持。\n",
      "* 从中推荐实际的数学在现实生活中的应用。\n",
      "\n",
      "**额外策略：**\n",
      "\n",
      "* 帮助学生跟踪他们的学术进程，以便追踪其学习路径的效果。\n",
      "* 许多学生兴趣更强，那么他们可以与同学或教师进行共享学习活动。\n",
      "* 提供针对学生的学习风格和速度的不同化妍杂料和资源。\n",
      "* 从中提供适当的学习工具和资源，根据学生的进展进行调整。\n",
      "\n",
      "**持续监视：**\n",
      "\n",
      "* 在下一个测试题和assignment中追踪学生的学习路径的效果。\n",
      "* 为了检查其学习路径的有效性，必须对学生提供有关他们的教学进程和成绩的信息。\n",
      "\n",
      "**输出结构：**\n",
      "\n",
      "- 尽管保持与输入相同的格式。\n",
      "- 在中文版本中，请确实按照上述学习路径进行编写。\n"
     ]
    }
   ],
   "source": [
    "prompt_lang = template.format(final)\n",
    "\n",
    "res_lang = llm_lang.invoke(prompt_lang)\n",
    "print(res_lang)"
   ]
  },
  {
   "cell_type": "code",
   "execution_count": 213,
   "metadata": {},
   "outputs": [],
   "source": [
    "from langchain_openai import OpenAI\n",
    "\n",
    "llm_video = LLM()\n",
    "\n",
    "\n",
    "video_prompt = ''' \n",
    "\n",
    "You are an agent that takes in a student learning path and recommedns videos to watch based \n",
    "on the topics they need improved on.\n",
    "\n",
    "Please return for a each topic a few video recommendations.\n",
    "\n",
    "Each recommendation should be in the following format:\n",
    "\n",
    "Video: (video title)\n",
    "Link: (video link)\n",
    "\n",
    "Here is the student learning path:\n",
    "\n",
    "{}\n",
    "\n",
    "## Output Structure:\n",
    "- DO NOT DISPLAY PYTHONCODE\n",
    "- DO NOT DISPLAY JSON\n",
    "- DO NOT WRAP ANSWER IN (''' ''')\n",
    "\n",
    "\n",
    "'''"
   ]
  },
  {
   "cell_type": "code",
   "execution_count": 214,
   "metadata": {},
   "outputs": [
    {
     "name": "stdout",
     "output_type": "stream",
     "text": [
      "## Video Recommendations:\n",
      "\n",
      "**Average Rate of Change:**\n",
      "\n",
      "* **Video:** Introduction to Derivatives\n",
      "* **Link:** https://www.khanacademy.org/math/calculus-1/derivative-introduction/average-rate-of-change/v/introduction-to-derivatives\n",
      "\n",
      "* **Video:** Average Rate of Change and Secant Lines\n",
      "* **Link:** https://www.youtube.com/watch?v=PwtNw5TLoiw\n",
      "\n",
      "* **Video:** Applying Derivatives to Find Instantaneous Rate of Change\n",
      "* **Link:** https://www.youtube.com/watch?v=8stueNPVl-I\n",
      "\n",
      "\n",
      "**Function Composition:**\n",
      "\n",
      "* **Video:** Function Composition - Explained!\n",
      "* **Link:** https://www.youtube.com/watch?v=qxBmISCJSME\n",
      "\n",
      "* **Video:** Inverse Functions\n",
      "* **Link:** https://www.khanacademy.org/math/algebra2/x2ec2f6f830c9fb89:functions/x2ec2f6f830c9fb89:inverse-functions/v/introduction-to-inverse-functions\n",
      "\n",
      "* **Video:** Composition of Functions - Real World Examples\n",
      "* **Link:** https://www.youtube.com/watch?v=3UXLf-xK_U4 \n",
      "\n"
     ]
    }
   ],
   "source": [
    "video_prompt_final = video_prompt.format(final)\n",
    "\n",
    "res_video = llm_video.llm.invoke(video_prompt_final)\n",
    "print(res_video)"
   ]
  }
 ],
 "metadata": {
  "kernelspec": {
   "display_name": "venv_hack",
   "language": "python",
   "name": "python3"
  },
  "language_info": {
   "codemirror_mode": {
    "name": "ipython",
    "version": 3
   },
   "file_extension": ".py",
   "mimetype": "text/x-python",
   "name": "python",
   "nbconvert_exporter": "python",
   "pygments_lexer": "ipython3",
   "version": "3.10.16"
  }
 },
 "nbformat": 4,
 "nbformat_minor": 2
}
